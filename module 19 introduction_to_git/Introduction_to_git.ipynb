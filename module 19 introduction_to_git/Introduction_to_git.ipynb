{
  "cells": [
    {
      "cell_type": "code",
      "execution_count": null,
      "metadata": {
        "hideCode": true,
        "colab": {
          "base_uri": "https://localhost:8080/",
          "height": 17
        },
        "id": "h-FyXaQ1JF3v",
        "outputId": "66f64f34-1c34-4e0e-db44-e8350679d846"
      },
      "outputs": [
        {
          "output_type": "display_data",
          "data": {
            "text/plain": [
              "<IPython.core.display.Javascript object>"
            ],
            "application/javascript": [
              "requirejs.config({\n",
              "    paths: {\n",
              "        'GitgraphJS': ['//cdn.jsdelivr.net/npm/@gitgraph/js?noext'],\n",
              "    },\n",
              "});\n",
              "\n",
              "window.getGitGraph = function (element, callback) {\n",
              "    require(['GitgraphJS'], function(GitgraphJS) {\n",
              "        // Get the graph container HTML element.\n",
              "        var graphContainer2 = element[0];\n",
              "        console.log(graphContainer2);\n",
              "\n",
              "        // Instantiate the graph.\n",
              "        var gitgraph = GitgraphJS.createGitgraph(graphContainer2, {\n",
              "            orientation: 'horizontal',\n",
              "            mode: 'compact'\n",
              "        })\n",
              "        callback(gitgraph);\n",
              "    });\n",
              "}\n"
            ]
          },
          "metadata": {}
        }
      ],
      "source": [
        "%%javascript\n",
        "requirejs.config({\n",
        "    paths: {\n",
        "        'GitgraphJS': ['//cdn.jsdelivr.net/npm/@gitgraph/js?noext'],\n",
        "    },\n",
        "});\n",
        "\n",
        "window.getGitGraph = function (element, callback) {\n",
        "    require(['GitgraphJS'], function(GitgraphJS) {\n",
        "        // Get the graph container HTML element.\n",
        "        var graphContainer2 = element[0];\n",
        "        console.log(graphContainer2);\n",
        "\n",
        "        // Instantiate the graph.\n",
        "        var gitgraph = GitgraphJS.createGitgraph(graphContainer2, {\n",
        "            orientation: 'horizontal',\n",
        "            mode: 'compact'\n",
        "        })\n",
        "        callback(gitgraph);\n",
        "    });\n",
        "}"
      ]
    },
    {
      "cell_type": "markdown",
      "metadata": {
        "id": "ZsA1CsmOJF39"
      },
      "source": [
        "# Basic git via command-line"
      ]
    },
    {
      "cell_type": "markdown",
      "metadata": {
        "id": "gwXH8RXLJF4A"
      },
      "source": [
        "This exercise abuses Jupyter notebooks a little to run bash commands (starting with `!`). We will walk through a relatively simple git scenario, with the intent of giving a hands-on understanding of what's happening under the Github/Sourcetree/etc hood."
      ]
    },
    {
      "cell_type": "code",
      "execution_count": 3,
      "metadata": {
        "colab": {
          "base_uri": "https://localhost:8080/"
        },
        "id": "EDHXW_IvJF4B",
        "outputId": "62b0c67f-70ed-4aa9-aa00-83be45c558c1"
      },
      "outputs": [
        {
          "output_type": "stream",
          "name": "stdout",
          "text": [
            "\u001b[33mhint: Using 'master' as the name for the initial branch. This default branch name\u001b[m\n",
            "\u001b[33mhint: is subject to change. To configure the initial branch name to use in all\u001b[m\n",
            "\u001b[33mhint: of your new repositories, which will suppress this warning, call:\u001b[m\n",
            "\u001b[33mhint: \u001b[m\n",
            "\u001b[33mhint: \tgit config --global init.defaultBranch <name>\u001b[m\n",
            "\u001b[33mhint: \u001b[m\n",
            "\u001b[33mhint: Names commonly chosen instead of 'master' are 'main', 'trunk' and\u001b[m\n",
            "\u001b[33mhint: 'development'. The just-created branch can be renamed via this command:\u001b[m\n",
            "\u001b[33mhint: \u001b[m\n",
            "\u001b[33mhint: \tgit branch -m <name>\u001b[m\n",
            "Initialized empty Git repository in /content/.git/\n"
          ]
        }
      ],
      "source": [
        "!git init"
      ]
    },
    {
      "cell_type": "markdown",
      "metadata": {
        "id": "YTzK72f_JF4D"
      },
      "source": [
        "This has created the folder `.git` - that's git's entire memory as long as it is on our computer. Most git commands from here on will consult that directory to find out, store and amend git's history."
      ]
    },
    {
      "cell_type": "code",
      "source": [
        "!pwd"
      ],
      "metadata": {
        "colab": {
          "base_uri": "https://localhost:8080/"
        },
        "id": "AoT1fu5SS1aQ",
        "outputId": "9ce494d5-36df-432f-d9b1-99bdca09b9a1"
      },
      "execution_count": null,
      "outputs": [
        {
          "output_type": "stream",
          "name": "stdout",
          "text": [
            "/content\n"
          ]
        }
      ]
    },
    {
      "cell_type": "code",
      "execution_count": null,
      "metadata": {
        "colab": {
          "base_uri": "https://localhost:8080/"
        },
        "id": "7e97gcDpJF4E",
        "outputId": "7cd50db8-a9a7-4f33-8ee8-c9e55ed1b175"
      },
      "outputs": [
        {
          "output_type": "stream",
          "name": "stdout",
          "text": [
            "On branch master\n",
            "\n",
            "No commits yet\n",
            "\n",
            "Untracked files:\n",
            "  (use \"git add <file>...\" to include in what will be committed)\n",
            "\t\u001b[31m.config/\u001b[m\n",
            "\t\u001b[31msample_data/\u001b[m\n",
            "\n",
            "nothing added to commit but untracked files present (use \"git add\" to track)\n"
          ]
        }
      ],
      "source": [
        "!git status"
      ]
    },
    {
      "cell_type": "markdown",
      "metadata": {
        "id": "_l163RIzJF4F"
      },
      "source": [
        "`git status` is the simplest way to get a snapshot of the current repository as you are using it - what's edited, what's not."
      ]
    },
    {
      "cell_type": "code",
      "execution_count": 1,
      "metadata": {
        "id": "p7XhJYgIJF4G",
        "outputId": "b0d90be6-7cb5-4fb2-814b-063add0999cd",
        "colab": {
          "base_uri": "https://localhost:8080/"
        }
      },
      "outputs": [
        {
          "output_type": "stream",
          "name": "stdout",
          "text": [
            "total 8\n",
            "drwxr-xr-x 1 root root 4096 Jul 16 13:22 sample_data\n",
            "drwxr-xr-x 2 root root 4096 Jul 17 17:42 test\n"
          ]
        }
      ],
      "source": [
        "!mkdir -p test && ls -ltr"
      ]
    },
    {
      "cell_type": "markdown",
      "metadata": {
        "id": "DhBPVvOxJF4H"
      },
      "source": [
        "Sneakily, we have already told git not to worry about the `Introduction to git.ipynb` and `example.py` files (more info below)."
      ]
    },
    {
      "cell_type": "code",
      "execution_count": null,
      "metadata": {
        "id": "vYVZ7PkOJF4I",
        "outputId": "5d615cac-1302-4f1b-d953-3f6a16d08ac3",
        "colab": {
          "base_uri": "https://localhost:8080/"
        }
      },
      "outputs": [
        {
          "output_type": "stream",
          "name": "stdout",
          "text": [
            "On branch master\n",
            "\n",
            "No commits yet\n",
            "\n",
            "Untracked files:\n",
            "  (use \"git add <file>...\" to include in what will be committed)\n",
            "\t\u001b[31m.config/\u001b[m\n",
            "\t\u001b[31msample_data/\u001b[m\n",
            "\n",
            "nothing added to commit but untracked files present (use \"git add\" to track)\n"
          ]
        }
      ],
      "source": [
        "!git status"
      ]
    },
    {
      "cell_type": "markdown",
      "metadata": {
        "id": "L0WbSBPLJF4K"
      },
      "source": [
        "You will notice that the creation of a `test` directory was not noticed - directories only matter to git if they contain files that it is (or would) track..."
      ]
    },
    {
      "cell_type": "code",
      "execution_count": null,
      "metadata": {
        "id": "E0mYgdFTJF4L"
      },
      "outputs": [],
      "source": [
        "!cp ../example.py test"
      ]
    },
    {
      "cell_type": "markdown",
      "metadata": {
        "id": "deYIvY-KJF4M"
      },
      "source": [
        "We have now added a file to the test directory..."
      ]
    },
    {
      "cell_type": "code",
      "execution_count": null,
      "metadata": {
        "id": "yhD1nOejJF4N",
        "outputId": "b716fbc0-9ea2-43c3-fbb4-3acd2aedbcb4",
        "colab": {
          "base_uri": "https://localhost:8080/"
        }
      },
      "outputs": [
        {
          "output_type": "stream",
          "name": "stdout",
          "text": [
            "example.py\n"
          ]
        }
      ],
      "source": [
        "!ls test"
      ]
    },
    {
      "cell_type": "code",
      "execution_count": null,
      "metadata": {
        "id": "_HrQs0eRJF4O",
        "outputId": "778d99c7-8ad4-483a-f90b-2a863ee073cc",
        "colab": {
          "base_uri": "https://localhost:8080/"
        }
      },
      "outputs": [
        {
          "output_type": "stream",
          "name": "stdout",
          "text": [
            "On branch master\n",
            "\n",
            "No commits yet\n",
            "\n",
            "Untracked files:\n",
            "  (use \"git add <file>...\" to include in what will be committed)\n",
            "\t\u001b[31m.config/\u001b[m\n",
            "\t\u001b[31msample_data/\u001b[m\n",
            "\t\u001b[31mtest/\u001b[m\n",
            "\n",
            "nothing added to commit but untracked files present (use \"git add\" to track)\n"
          ]
        }
      ],
      "source": [
        "!git status"
      ]
    },
    {
      "cell_type": "markdown",
      "metadata": {
        "id": "2T2-iPEqJF4P"
      },
      "source": [
        "Now you can see `test` has appeared as \"Untracked\" -- git notices it, but is not yet tracking it, versioning it, or otherwise observing it."
      ]
    },
    {
      "cell_type": "code",
      "execution_count": 4,
      "metadata": {
        "id": "h0BKbILlJF4Q"
      },
      "outputs": [],
      "source": [
        "!git add test"
      ]
    },
    {
      "cell_type": "markdown",
      "metadata": {
        "id": "XHcY6ybHJF4R"
      },
      "source": [
        "We tell git that it matters... then we can see it now wants to version (commit) its contents."
      ]
    },
    {
      "cell_type": "code",
      "execution_count": null,
      "metadata": {
        "id": "2GKKDfCEJF4S",
        "outputId": "3b950f78-2b0c-40f9-c64e-877a02ee7c87",
        "colab": {
          "base_uri": "https://localhost:8080/"
        }
      },
      "outputs": [
        {
          "output_type": "stream",
          "name": "stdout",
          "text": [
            "On branch master\n",
            "\n",
            "No commits yet\n",
            "\n",
            "Changes to be committed:\n",
            "  (use \"git rm --cached <file>...\" to unstage)\n",
            "\t\u001b[32mnew file:   test/example.py\u001b[m\n",
            "\n",
            "Untracked files:\n",
            "  (use \"git add <file>...\" to include in what will be committed)\n",
            "\t\u001b[31m.config/\u001b[m\n",
            "\t\u001b[31msample_data/\u001b[m\n",
            "\n"
          ]
        }
      ],
      "source": [
        "!git status"
      ]
    },
    {
      "cell_type": "markdown",
      "metadata": {
        "id": "CKCRnG2cJF4T"
      },
      "source": [
        "We snapshot a version - commit it..."
      ]
    },
    {
      "cell_type": "code",
      "execution_count": 5,
      "metadata": {
        "id": "TRXZMYCfJF4T"
      },
      "outputs": [],
      "source": [
        "!git config --global user.email \"partha.paul@flaxandteal.co.uk\"\n",
        "!git config --global user.name \"Partha Saka Paul\""
      ]
    },
    {
      "cell_type": "code",
      "execution_count": 6,
      "metadata": {
        "id": "Qot3ndfyJF4U",
        "outputId": "ddbe8742-8180-4a17-9ef2-b87eaf819dac",
        "colab": {
          "base_uri": "https://localhost:8080/"
        }
      },
      "outputs": [
        {
          "output_type": "stream",
          "name": "stdout",
          "text": [
            "[master (root-commit) 28f361e] Initial commit\n",
            " 1 file changed, 9 insertions(+)\n",
            " create mode 100644 test/example.py\n"
          ]
        }
      ],
      "source": [
        "!git commit -m \"Initial commit\""
      ]
    },
    {
      "cell_type": "markdown",
      "metadata": {
        "id": "ScyrMN_KJF4V"
      },
      "source": [
        "And we now have a git repository like any other - it has a first commit, with a file, and whatever happens to that file, we can now roll back to our committed version."
      ]
    },
    {
      "cell_type": "code",
      "execution_count": 7,
      "metadata": {
        "hideCode": true,
        "id": "DPyppt5hJF4V",
        "outputId": "13407632-29db-4406-e364-2906043a10c3",
        "colab": {
          "base_uri": "https://localhost:8080/",
          "height": 17
        }
      },
      "outputs": [
        {
          "output_type": "display_data",
          "data": {
            "text/plain": [
              "<IPython.core.display.Javascript object>"
            ],
            "application/javascript": [
              "\n",
              "getGitGraph(element, function (gitgraph) {\n",
              "    console.log(gitgraph);\n",
              "    var master = gitgraph.branch(\"master\");\n",
              "    master.commit(\"Initial commit\");\n",
              "});\n"
            ]
          },
          "metadata": {}
        }
      ],
      "source": [
        "%%javascript\n",
        "\n",
        "getGitGraph(element, function (gitgraph) {\n",
        "    console.log(gitgraph);\n",
        "    var master = gitgraph.branch(\"master\");\n",
        "    master.commit(\"Initial commit\");\n",
        "});"
      ]
    },
    {
      "cell_type": "markdown",
      "metadata": {
        "id": "FIwsNdsXJF4V"
      },
      "source": [
        "Above is a simple representation of the current git-tree (these are not live-updating so will only be accurate if you're following the steps closely!).\n",
        "\n",
        "It has a single dot, indicating a commit, beside a branch-name -- master. This is comparable to, for instance, trunk in SVN, but git is a _decentralized_ version control system, and so you have your own `master` branch locally, independent from the \"remote\" `master` branch (and any other remote branches)"
      ]
    },
    {
      "cell_type": "markdown",
      "metadata": {
        "id": "DLupzMhjJF4W"
      },
      "source": [
        "Lets suppose we wish to update example.py - use [this link](https://jh.ev.openindustry.in/hub/user-redirect/edit/python-course/019-git/test/example.py) or go to the file browser, and open `python-course/019-git/test/example.py`"
      ]
    },
    {
      "cell_type": "markdown",
      "metadata": {
        "id": "gecQa3cDJF4W"
      },
      "source": [
        "## Status & Committing"
      ]
    },
    {
      "cell_type": "markdown",
      "metadata": {
        "id": "VccykYdxJF4W"
      },
      "source": [
        "Lets begin by improving the doc-string - the text at the start of the file."
      ]
    },
    {
      "cell_type": "markdown",
      "metadata": {
        "id": "tZicrAhTJF4X"
      },
      "source": [
        "Change:\n",
        "\n",
        "    This is an example Python file\n",
        "\n",
        "to:\n",
        "\n",
        "    Text manipulation utilities"
      ]
    },
    {
      "cell_type": "markdown",
      "metadata": {
        "id": "aOD5gq0DJF4X"
      },
      "source": [
        "and save. Git can tell this has changed:"
      ]
    },
    {
      "cell_type": "code",
      "source": [
        "# Update example.py with a new doc-string\n",
        "\n",
        "file_path = 'test/example.py'\n",
        "\n",
        "with open(file_path, 'r') as file:\n",
        "    lines = file.readlines()\n",
        "print(lines)\n",
        "# Modify the doc-string\n",
        "with open(file_path, 'w') as file:\n",
        "    for line in lines:\n",
        "        if line == 'This is an example Python file\\n':\n",
        "            # Skip the old doc-string and add the new one\n",
        "            file.write('Text manipulation utilities\\n')\n",
        "        else:\n",
        "            file.write(line)"
      ],
      "metadata": {
        "colab": {
          "base_uri": "https://localhost:8080/"
        },
        "id": "PSbrdZJ-6vaa",
        "outputId": "14613354-699f-4ff4-f25b-9f4dd6c98f15"
      },
      "execution_count": 8,
      "outputs": [
        {
          "output_type": "stream",
          "name": "stdout",
          "text": [
            "['\"\"\"\\n', 'This is an example Python file\\n', '\"\"\"\\n', '\\n', 'def capitalize(text):\\n', '    return text.lower()\\n', '\\n', 'if __name__ == \"__main__\":\\n', '    print(capitalize(\"testing\"))\\n']\n"
          ]
        }
      ]
    },
    {
      "cell_type": "code",
      "execution_count": null,
      "metadata": {
        "id": "NqsdskaXJF4X",
        "outputId": "b4dfba89-5ac7-46d8-f211-7e230f7b0f82",
        "colab": {
          "base_uri": "https://localhost:8080/"
        }
      },
      "outputs": [
        {
          "output_type": "stream",
          "name": "stdout",
          "text": [
            "On branch master\n",
            "Changes not staged for commit:\n",
            "  (use \"git add <file>...\" to update what will be committed)\n",
            "  (use \"git restore <file>...\" to discard changes in working directory)\n",
            "\t\u001b[31mmodified:   test/example.py\u001b[m\n",
            "\n",
            "Untracked files:\n",
            "  (use \"git add <file>...\" to include in what will be committed)\n",
            "\t\u001b[31m.config/\u001b[m\n",
            "\t\u001b[31msample_data/\u001b[m\n",
            "\n",
            "no changes added to commit (use \"git add\" and/or \"git commit -a\")\n"
          ]
        }
      ],
      "source": [
        "!git status"
      ]
    },
    {
      "cell_type": "markdown",
      "metadata": {
        "id": "V3tYRim7JF4Y"
      },
      "source": [
        "We can add and commit these changes in two steps (a combined shortcut is possible, but doing them separately is strongly recommended)."
      ]
    },
    {
      "cell_type": "code",
      "source": [
        "!git log -1"
      ],
      "metadata": {
        "colab": {
          "base_uri": "https://localhost:8080/"
        },
        "id": "27uPqrR0MZ_Y",
        "outputId": "d6c24452-73c5-4e6f-e565-2f2a19b79dba"
      },
      "execution_count": null,
      "outputs": [
        {
          "output_type": "stream",
          "name": "stdout",
          "text": [
            "\u001b[33mcommit c0ba898c5725f72b08bd8b44d5b7b6f345ca6cc8\u001b[m\u001b[33m (\u001b[m\u001b[1;36mHEAD -> \u001b[m\u001b[1;32mmaster\u001b[m\u001b[33m)\u001b[m\n",
            "Author: Partha Saka Paul <partha.paul@flaxandteal.co.uk>\n",
            "Date:   Mon Jul 15 09:50:27 2024 +0000\n",
            "\n",
            "    Initial commit\n"
          ]
        }
      ]
    },
    {
      "cell_type": "code",
      "execution_count": 9,
      "metadata": {
        "id": "TDh2rniOJF4Z"
      },
      "outputs": [],
      "source": [
        "!git add test/example.py"
      ]
    },
    {
      "cell_type": "code",
      "source": [
        "!git status"
      ],
      "metadata": {
        "colab": {
          "base_uri": "https://localhost:8080/"
        },
        "id": "VrV71ZJAMScS",
        "outputId": "8d0a6fa9-f28f-4826-c460-ab4b526fe97a"
      },
      "execution_count": null,
      "outputs": [
        {
          "output_type": "stream",
          "name": "stdout",
          "text": [
            "On branch master\n",
            "Changes to be committed:\n",
            "  (use \"git restore --staged <file>...\" to unstage)\n",
            "\t\u001b[32mmodified:   test/example.py\u001b[m\n",
            "\n",
            "Untracked files:\n",
            "  (use \"git add <file>...\" to include in what will be committed)\n",
            "\t\u001b[31m.config/\u001b[m\n",
            "\t\u001b[31msample_data/\u001b[m\n",
            "\n"
          ]
        }
      ]
    },
    {
      "cell_type": "code",
      "source": [
        "!git commit -m \"improve utility file docstring\""
      ],
      "metadata": {
        "colab": {
          "base_uri": "https://localhost:8080/"
        },
        "id": "vDqGg0vMMQvY",
        "outputId": "058b49e6-3068-4623-dc62-06460dacffee"
      },
      "execution_count": 10,
      "outputs": [
        {
          "output_type": "stream",
          "name": "stdout",
          "text": [
            "[master 61a990e] improve utility file docstring\n",
            " 1 file changed, 1 insertion(+), 1 deletion(-)\n"
          ]
        }
      ]
    },
    {
      "cell_type": "markdown",
      "metadata": {
        "id": "5R51EfipJF4Z"
      },
      "source": [
        "These are now recorded. You can continue changing the file, and know that you can find and return to this version."
      ]
    },
    {
      "cell_type": "markdown",
      "metadata": {
        "id": "DWIkQH9HJF4Z"
      },
      "source": [
        "You'll notice that git gives a handy summary of the scale of changes you just committed -- keep an eye on that, it's often an easy mistake to commit files you did not intend ( _if you haven't pushed your changes to a remote git server_ , you may be able to adjust with `git commit`'s `--amend` flag, but _only_ if you haven't yet sent them anywhere!)"
      ]
    },
    {
      "cell_type": "code",
      "execution_count": 11,
      "metadata": {
        "hideCode": true,
        "id": "2ccHrKVrJF4a",
        "outputId": "9b983e61-3e83-47a0-b8af-eadfc8a879e3",
        "colab": {
          "base_uri": "https://localhost:8080/",
          "height": 17
        }
      },
      "outputs": [
        {
          "output_type": "display_data",
          "data": {
            "text/plain": [
              "<IPython.core.display.Javascript object>"
            ],
            "application/javascript": [
              "\n",
              "getGitGraph(element, function (gitgraph) {\n",
              "    console.log(gitgraph);\n",
              "    var master = gitgraph.branch(\"master\");\n",
              "    master.commit(\"Initial commit\");\n",
              "    master.commit(\"improve utility file docstring\");\n",
              "});\n"
            ]
          },
          "metadata": {}
        }
      ],
      "source": [
        "%%javascript\n",
        "\n",
        "getGitGraph(element, function (gitgraph) {\n",
        "    console.log(gitgraph);\n",
        "    var master = gitgraph.branch(\"master\");\n",
        "    master.commit(\"Initial commit\");\n",
        "    master.commit(\"improve utility file docstring\");\n",
        "});"
      ]
    },
    {
      "cell_type": "markdown",
      "metadata": {
        "id": "CkoWIA-nJF4a"
      },
      "source": [
        "## The Index & Diff"
      ]
    },
    {
      "cell_type": "markdown",
      "metadata": {
        "id": "ekcCuh_fJF4a"
      },
      "source": [
        "We notice that the `capitalize` method is using the `.lower` method, woops -- edit that, changing `.lower` to `.upper` and save it now."
      ]
    },
    {
      "cell_type": "code",
      "execution_count": null,
      "metadata": {
        "id": "r72TgUC0JF4b",
        "outputId": "4767a8d3-c9f3-4635-84c4-85b11f327b5e",
        "colab": {
          "base_uri": "https://localhost:8080/"
        }
      },
      "outputs": [
        {
          "output_type": "stream",
          "name": "stdout",
          "text": [
            "testing\n"
          ]
        }
      ],
      "source": [
        "!python3 test/example.py"
      ]
    },
    {
      "cell_type": "code",
      "source": [
        "# Script to replace .lower() with .upper() in example.py\n",
        "def replace_lower_with_upper(file_path):\n",
        "    # Read the file\n",
        "    with open(file_path, 'r') as file:\n",
        "        lines = file.readlines()\n",
        "\n",
        "    # Replace .lower() with .upper()\n",
        "    with open(file_path, 'w') as file:\n",
        "        for line in lines:\n",
        "            file.write(line.replace('.lower()', '.upper()'))\n",
        "\n",
        "# Specify the path to the example.py file\n",
        "file_path = 'test/example.py'\n",
        "\n",
        "# Call the function to perform the replacement\n",
        "replace_lower_with_upper(file_path)\n"
      ],
      "metadata": {
        "id": "mfJEPd7JKa_5"
      },
      "execution_count": 12,
      "outputs": []
    },
    {
      "cell_type": "code",
      "source": [
        "with open('test/example.py', 'r') as file:\n",
        "  lines = file.readlines()\n",
        "print(lines)"
      ],
      "metadata": {
        "colab": {
          "base_uri": "https://localhost:8080/"
        },
        "id": "DQo854ciKzlJ",
        "outputId": "d78e2587-79f0-4c7d-9c49-4ec98d968f2d"
      },
      "execution_count": null,
      "outputs": [
        {
          "output_type": "stream",
          "name": "stdout",
          "text": [
            "['\"\"\"\\n', 'Text manipulation utilities\\n', '\"\"\"\\n', '\\n', 'def capitalize(text):\\n', '    return text.upper()\\n', '\\n', 'if __name__ == \"__main__\":\\n', '    print(capitalize(\"testing\"))\\n']\n"
          ]
        }
      ]
    },
    {
      "cell_type": "code",
      "source": [
        "!python3 test/example.py"
      ],
      "metadata": {
        "colab": {
          "base_uri": "https://localhost:8080/"
        },
        "id": "gz0d7XbQLTw4",
        "outputId": "21acabfe-9364-468d-a36a-26e274c71e97"
      },
      "execution_count": null,
      "outputs": [
        {
          "output_type": "stream",
          "name": "stdout",
          "text": [
            "TESTING\n"
          ]
        }
      ]
    },
    {
      "cell_type": "markdown",
      "metadata": {
        "id": "GsyUHrQTJF4m"
      },
      "source": [
        "Git can tell this has changed..."
      ]
    },
    {
      "cell_type": "code",
      "execution_count": null,
      "metadata": {
        "id": "7Z2NM2XuJF4m",
        "outputId": "9a5195c1-bd44-4d86-e0a3-bd4540db1674",
        "colab": {
          "base_uri": "https://localhost:8080/"
        }
      },
      "outputs": [
        {
          "output_type": "stream",
          "name": "stdout",
          "text": [
            "On branch master\n",
            "Changes not staged for commit:\n",
            "  (use \"git add <file>...\" to update what will be committed)\n",
            "  (use \"git restore <file>...\" to discard changes in working directory)\n",
            "\t\u001b[31mmodified:   test/example.py\u001b[m\n",
            "\n",
            "Untracked files:\n",
            "  (use \"git add <file>...\" to include in what will be committed)\n",
            "\t\u001b[31m.config/\u001b[m\n",
            "\t\u001b[31msample_data/\u001b[m\n",
            "\n",
            "no changes added to commit (use \"git add\" and/or \"git commit -a\")\n"
          ]
        }
      ],
      "source": [
        "!git status"
      ]
    },
    {
      "cell_type": "markdown",
      "metadata": {
        "id": "Ew1Gzy18JF4m"
      },
      "source": [
        "You should notice that there is a line `modified:   test/example.py` indicating that you have changes that are not committed. This means the repo is \"dirty\".\n",
        "\n",
        "Moreover, it is under a section `Changes not staged for commit`. Git has a concept of staging - the _index_ - where you add you changes (additions/modifications/removals) and all of the staged changes are committed at once.\n",
        "\n",
        "You can stage your changes (git add), unstage them, stage a few different changes, but none of it is permanently recorded."
      ]
    },
    {
      "cell_type": "code",
      "execution_count": 13,
      "metadata": {
        "id": "RGvncLyKJF4n",
        "outputId": "bda10243-7a85-4bed-a308-0748399e87ea",
        "colab": {
          "base_uri": "https://localhost:8080/"
        }
      },
      "outputs": [
        {
          "output_type": "stream",
          "name": "stdout",
          "text": [
            "On branch master\n",
            "Changes to be committed:\n",
            "  (use \"git restore --staged <file>...\" to unstage)\n",
            "\t\u001b[32mmodified:   test/example.py\u001b[m\n",
            "\n",
            "Untracked files:\n",
            "  (use \"git add <file>...\" to include in what will be committed)\n",
            "\t\u001b[31m.config/\u001b[m\n",
            "\t\u001b[31msample_data/\u001b[m\n",
            "\n"
          ]
        }
      ],
      "source": [
        "!git add test/example.py && git status"
      ]
    },
    {
      "cell_type": "markdown",
      "metadata": {
        "id": "ult1Hx2SJF4n"
      },
      "source": [
        "This time, we only did the first step - `add`. The `test/example.py` change is now \"staged\", ready to be committed. However, before doing so, we realise that `capitalize` and `upper` are very different things..."
      ]
    },
    {
      "cell_type": "markdown",
      "metadata": {
        "id": "V8XCqozMJF4o"
      },
      "source": [
        "Change the example.py text from `.upper()` to `.capitalize()` and save it."
      ]
    },
    {
      "cell_type": "code",
      "source": [
        "# Script to replace .upper() with .capitalize() in example.py\n",
        "def replace_upper_with_capitalize(file_path):\n",
        "    # Read the file\n",
        "    with open(file_path, 'r') as file:\n",
        "        lines = file.readlines()\n",
        "\n",
        "    # Replace .upper() with .capitalize()\n",
        "    with open(file_path, 'w') as file:\n",
        "        for line in lines:\n",
        "            file.write(line.replace('.upper()', '.capitalize()'))\n",
        "\n",
        "# Specify the path to the example.py file\n",
        "file_path = 'test/example.py'\n",
        "\n",
        "# Call the function to perform the replacement\n",
        "replace_upper_with_capitalize(file_path)"
      ],
      "metadata": {
        "id": "SHwW0jurQAqE"
      },
      "execution_count": 14,
      "outputs": []
    },
    {
      "cell_type": "code",
      "source": [
        "!python3 test/example.py"
      ],
      "metadata": {
        "colab": {
          "base_uri": "https://localhost:8080/"
        },
        "id": "hwuVsRLbQInN",
        "outputId": "df7f118a-3ce8-4df4-df24-4fd1d618eabe"
      },
      "execution_count": 15,
      "outputs": [
        {
          "output_type": "stream",
          "name": "stdout",
          "text": [
            "Testing\n"
          ]
        }
      ]
    },
    {
      "cell_type": "code",
      "execution_count": null,
      "metadata": {
        "id": "pVzeU6SvJF4o",
        "outputId": "f25306aa-66e1-45b7-e385-b6ec7a33c973",
        "colab": {
          "base_uri": "https://localhost:8080/"
        }
      },
      "outputs": [
        {
          "output_type": "stream",
          "name": "stdout",
          "text": [
            "On branch master\n",
            "Changes to be committed:\n",
            "  (use \"git restore --staged <file>...\" to unstage)\n",
            "\t\u001b[32mmodified:   test/example.py\u001b[m\n",
            "\n",
            "Changes not staged for commit:\n",
            "  (use \"git add <file>...\" to update what will be committed)\n",
            "  (use \"git restore <file>...\" to discard changes in working directory)\n",
            "\t\u001b[31mmodified:   test/example.py\u001b[m\n",
            "\n",
            "Untracked files:\n",
            "  (use \"git add <file>...\" to include in what will be committed)\n",
            "\t\u001b[31m.config/\u001b[m\n",
            "\t\u001b[31msample_data/\u001b[m\n",
            "\n"
          ]
        }
      ],
      "source": [
        "!git status"
      ]
    },
    {
      "cell_type": "markdown",
      "metadata": {
        "id": "0jUQtByhJF4p"
      },
      "source": [
        "Now you can explicitly see that we have a record of our \"staged\" change (.lower->.upper) under \"Changes to be committed\", but also our not-yet-staged change (.upper->.capitalize)."
      ]
    },
    {
      "cell_type": "markdown",
      "metadata": {
        "id": "LVXUAQ2WJF4p"
      },
      "source": [
        "Lets see the differences between them. Firstly, how is our local copy of `example.py` different from the staged version?"
      ]
    },
    {
      "cell_type": "code",
      "execution_count": 16,
      "metadata": {
        "id": "pXosj8qQJF4q",
        "colab": {
          "base_uri": "https://localhost:8080/"
        },
        "outputId": "2831701c-637f-40d5-a67d-5ab9290d4e9e"
      },
      "outputs": [
        {
          "output_type": "stream",
          "name": "stdout",
          "text": [
            "\u001b[1mdiff --git a/test/example.py b/test/example.py\u001b[m\n",
            "\u001b[1mindex ecb1d6c..e5aba2a 100644\u001b[m\n",
            "\u001b[1m--- a/test/example.py\u001b[m\n",
            "\u001b[1m+++ b/test/example.py\u001b[m\n",
            "\u001b[36m@@ -3,7 +3,7 @@\u001b[m \u001b[mText manipulation utilities\u001b[m\n",
            " \"\"\"\u001b[m\n",
            " \u001b[m\n",
            " def capitalize(text):\u001b[m\n",
            "\u001b[31m-    return text.upper()\u001b[m\n",
            "\u001b[32m+\u001b[m\u001b[32m    return text.capitalize()\u001b[m\n",
            " \u001b[m\n",
            " if __name__ == \"__main__\":\u001b[m\n",
            "     print(capitalize(\"testing\"))\u001b[m\n"
          ]
        }
      ],
      "source": [
        "!git diff"
      ]
    },
    {
      "cell_type": "markdown",
      "metadata": {
        "id": "Y-nPxE9KJF4q"
      },
      "source": [
        "This shows several things - firstly, coloured, the difference between two files. It mentions the index (staging area), which is our default reference copy, and it tells us the mode of the file (644: not executable, readable by anyone, editable by its owner). Now lets see the difference between the index and the last actual commit."
      ]
    },
    {
      "cell_type": "code",
      "source": [
        "!git log -1"
      ],
      "metadata": {
        "colab": {
          "base_uri": "https://localhost:8080/"
        },
        "id": "At3a6G3UGTe2",
        "outputId": "213e3e29-0cf3-4f1c-f0b3-7a58e5f06a70"
      },
      "execution_count": 18,
      "outputs": [
        {
          "output_type": "stream",
          "name": "stdout",
          "text": [
            "\u001b[33mcommit 1feaa16252196b6bf7a856363e91a9d6aefb2e67\u001b[m\u001b[33m (\u001b[m\u001b[1;36mHEAD -> \u001b[m\u001b[1;32mmaster\u001b[m\u001b[33m)\u001b[m\n",
            "Author: Partha Saka Paul <partha.paul@flaxandteal.co.uk>\n",
            "Date:   Wed Jul 17 14:26:35 2024 +0000\n",
            "\n",
            "    improve utility file docstring\n"
          ]
        }
      ]
    },
    {
      "cell_type": "code",
      "execution_count": 21,
      "metadata": {
        "id": "8cKNWMU6JF4q",
        "colab": {
          "base_uri": "https://localhost:8080/"
        },
        "outputId": "38eb8599-90ea-4e1d-ea96-7f88151d0bd6"
      },
      "outputs": [
        {
          "output_type": "stream",
          "name": "stdout",
          "text": [
            "\u001b[1mdiff --git a/test/example.py b/test/example.py\u001b[m\n",
            "\u001b[1mindex 6e03ebb..ecb1d6c 100644\u001b[m\n",
            "\u001b[1m--- a/test/example.py\u001b[m\n",
            "\u001b[1m+++ b/test/example.py\u001b[m\n",
            "\u001b[36m@@ -3,7 +3,7 @@\u001b[m \u001b[mText manipulation utilities\u001b[m\n",
            " \"\"\"\u001b[m\n",
            " \u001b[m\n",
            " def capitalize(text):\u001b[m\n",
            "\u001b[31m-    return text.lower()\u001b[m\n",
            "\u001b[32m+\u001b[m\u001b[32m    return text.upper()\u001b[m\n",
            " \u001b[m\n",
            " if __name__ == \"__main__\":\u001b[m\n",
            "     print(capitalize(\"testing\"))\u001b[m\n"
          ]
        }
      ],
      "source": [
        "!git diff --staged"
      ]
    },
    {
      "cell_type": "markdown",
      "metadata": {
        "id": "4e2lLW6rJF4r"
      },
      "source": [
        "The staged flag tells git we want to compare between our last commit (also known as HEAD) and the index - i.e. what is staged, ready to be committed?"
      ]
    },
    {
      "cell_type": "markdown",
      "metadata": {
        "id": "yOUJ6KrbJF4r"
      },
      "source": [
        "We can also ignore the index, staging area, and say, \"what is different between my local file and the last commit\"?"
      ]
    },
    {
      "cell_type": "code",
      "execution_count": 17,
      "metadata": {
        "id": "0cHa48ZsJF4v",
        "colab": {
          "base_uri": "https://localhost:8080/"
        },
        "outputId": "9a7cc9ca-e087-4a77-bc00-721e640fd02c"
      },
      "outputs": [
        {
          "output_type": "stream",
          "name": "stdout",
          "text": [
            "\u001b[1mdiff --git a/test/example.py b/test/example.py\u001b[m\n",
            "\u001b[1mindex 6e03ebb..e5aba2a 100644\u001b[m\n",
            "\u001b[1m--- a/test/example.py\u001b[m\n",
            "\u001b[1m+++ b/test/example.py\u001b[m\n",
            "\u001b[36m@@ -3,7 +3,7 @@\u001b[m \u001b[mText manipulation utilities\u001b[m\n",
            " \"\"\"\u001b[m\n",
            " \u001b[m\n",
            " def capitalize(text):\u001b[m\n",
            "\u001b[31m-    return text.lower()\u001b[m\n",
            "\u001b[32m+\u001b[m\u001b[32m    return text.capitalize()\u001b[m\n",
            " \u001b[m\n",
            " if __name__ == \"__main__\":\u001b[m\n",
            "     print(capitalize(\"testing\"))\u001b[m\n"
          ]
        }
      ],
      "source": [
        "!git diff HEAD"
      ]
    },
    {
      "cell_type": "markdown",
      "metadata": {
        "id": "8YR96KS-JF4w"
      },
      "source": [
        "HEAD is a shortcut name for the last commit made on the currently checked out branch (see below) - we could use any other commit here, or branch, or tag, and git will tell us the different between that and our current local file."
      ]
    },
    {
      "cell_type": "code",
      "execution_count": 22,
      "metadata": {
        "id": "4Me1RU8gJF4w",
        "outputId": "e527cd68-749d-4a7d-ff62-b4fda0ea3627",
        "colab": {
          "base_uri": "https://localhost:8080/"
        }
      },
      "outputs": [
        {
          "output_type": "stream",
          "name": "stdout",
          "text": [
            "\u001b[1mdiff --git a/test/example.py b/test/example.py\u001b[m\n",
            "\u001b[1mindex 97360a6..e5aba2a 100644\u001b[m\n",
            "\u001b[1m--- a/test/example.py\u001b[m\n",
            "\u001b[1m+++ b/test/example.py\u001b[m\n",
            "\u001b[36m@@ -1,9 +1,9 @@\u001b[m\n",
            " \"\"\"\u001b[m\n",
            "\u001b[31m-This is an example Python file\u001b[m\n",
            "\u001b[32m+\u001b[m\u001b[32mText manipulation utilities\u001b[m\n",
            " \"\"\"\u001b[m\n",
            " \u001b[m\n",
            " def capitalize(text):\u001b[m\n",
            "\u001b[31m-    return text.lower()\u001b[m\n",
            "\u001b[32m+\u001b[m\u001b[32m    return text.capitalize()\u001b[m\n",
            " \u001b[m\n",
            " if __name__ == \"__main__\":\u001b[m\n",
            "     print(capitalize(\"testing\"))\u001b[m\n"
          ]
        }
      ],
      "source": [
        "!git diff HEAD~1"
      ]
    },
    {
      "cell_type": "markdown",
      "metadata": {
        "id": "VDe02FbCJF4w"
      },
      "source": [
        "We can even ask git to do some maths with commits - the above asks \"what are the differences between my current file, and the commit-before-last\"?"
      ]
    },
    {
      "cell_type": "markdown",
      "metadata": {
        "id": "92-4d64nJF4x"
      },
      "source": [
        "While these diff outputs can sometimes be hard to read - code editors often make them a bit simpler to read, using interactive features - they are very powerful. You can take a copy of one, and \"apply\" it as a \"patch\" to reproduce a set of changes on top of a known code-base.\n",
        "\n",
        "If you are working with Github, Gitlab or Bitbucket, you will be familiar with this format in the browser - they also provide integrated tools for code review, and identifying when and where something changed, on top of the diff view.\n",
        "\n",
        "Lets unstage our changes, as we didn't want to commit the change to \"upper\" any more..."
      ]
    },
    {
      "cell_type": "code",
      "execution_count": 17,
      "metadata": {
        "id": "slI0xGGCJF4x",
        "colab": {
          "base_uri": "https://localhost:8080/"
        },
        "outputId": "a2d3474c-8835-41fe-93da-40898a76e5da"
      },
      "outputs": [
        {
          "output_type": "stream",
          "name": "stdout",
          "text": [
            "Unstaged changes after reset:\n",
            "M\ttest/example.py\n"
          ]
        }
      ],
      "source": [
        "!git reset"
      ]
    },
    {
      "cell_type": "markdown",
      "metadata": {
        "id": "WYDftDN2JF4y"
      },
      "source": [
        "You can try the git diffs to see what the current situation looks like - the index is no longer different from the last commit, and your local file contains only the \"capitalize\" change. You can commit it."
      ]
    },
    {
      "cell_type": "code",
      "execution_count": 18,
      "metadata": {
        "id": "hnHIS9GDJF4y",
        "outputId": "e23f83e0-680f-4e30-d6ea-ec63a002eb93",
        "colab": {
          "base_uri": "https://localhost:8080/"
        }
      },
      "outputs": [
        {
          "output_type": "stream",
          "name": "stdout",
          "text": [
            "On branch master\n",
            "Changes to be committed:\n",
            "  (use \"git restore --staged <file>...\" to unstage)\n",
            "\t\u001b[32mmodified:   test/example.py\u001b[m\n",
            "\n",
            "Untracked files:\n",
            "  (use \"git add <file>...\" to include in what will be committed)\n",
            "\t\u001b[31m.config/\u001b[m\n",
            "\t\u001b[31msample_data/\u001b[m\n",
            "\n"
          ]
        }
      ],
      "source": [
        "!git add test/example.py\n",
        "!git status"
      ]
    },
    {
      "cell_type": "code",
      "source": [
        "!git diff"
      ],
      "metadata": {
        "id": "u4pgM4qCTy01"
      },
      "execution_count": 19,
      "outputs": []
    },
    {
      "cell_type": "code",
      "source": [
        "!git diff --staged"
      ],
      "metadata": {
        "colab": {
          "base_uri": "https://localhost:8080/"
        },
        "id": "TmZ2IPGbS-la",
        "outputId": "8b576f31-aa14-4ead-e768-bcce8d40754d"
      },
      "execution_count": 27,
      "outputs": [
        {
          "output_type": "stream",
          "name": "stdout",
          "text": [
            "\u001b[1mdiff --git a/test/example.py b/test/example.py\u001b[m\n",
            "\u001b[1mindex 6e03ebb..e5aba2a 100644\u001b[m\n",
            "\u001b[1m--- a/test/example.py\u001b[m\n",
            "\u001b[1m+++ b/test/example.py\u001b[m\n",
            "\u001b[36m@@ -3,7 +3,7 @@\u001b[m \u001b[mText manipulation utilities\u001b[m\n",
            " \"\"\"\u001b[m\n",
            " \u001b[m\n",
            " def capitalize(text):\u001b[m\n",
            "\u001b[31m-    return text.lower()\u001b[m\n",
            "\u001b[32m+\u001b[m\u001b[32m    return text.capitalize()\u001b[m\n",
            " \u001b[m\n",
            " if __name__ == \"__main__\":\u001b[m\n",
            "     print(capitalize(\"testing\"))\u001b[m\n"
          ]
        }
      ]
    },
    {
      "cell_type": "code",
      "source": [
        "!git diff HEAD"
      ],
      "metadata": {
        "colab": {
          "base_uri": "https://localhost:8080/"
        },
        "id": "HbDDl-lWUJds",
        "outputId": "918c79c4-5921-4001-fa57-ffdb04b6b8da"
      },
      "execution_count": 29,
      "outputs": [
        {
          "output_type": "stream",
          "name": "stdout",
          "text": [
            "\u001b[1mdiff --git a/test/example.py b/test/example.py\u001b[m\n",
            "\u001b[1mindex 6e03ebb..e5aba2a 100644\u001b[m\n",
            "\u001b[1m--- a/test/example.py\u001b[m\n",
            "\u001b[1m+++ b/test/example.py\u001b[m\n",
            "\u001b[36m@@ -3,7 +3,7 @@\u001b[m \u001b[mText manipulation utilities\u001b[m\n",
            " \"\"\"\u001b[m\n",
            " \u001b[m\n",
            " def capitalize(text):\u001b[m\n",
            "\u001b[31m-    return text.lower()\u001b[m\n",
            "\u001b[32m+\u001b[m\u001b[32m    return text.capitalize()\u001b[m\n",
            " \u001b[m\n",
            " if __name__ == \"__main__\":\u001b[m\n",
            "     print(capitalize(\"testing\"))\u001b[m\n"
          ]
        }
      ]
    },
    {
      "cell_type": "code",
      "source": [
        "!git diff HEAD~1"
      ],
      "metadata": {
        "colab": {
          "base_uri": "https://localhost:8080/"
        },
        "id": "jmL85w30UQ95",
        "outputId": "7c2f0bb4-545f-4c41-f353-2fc9ddb11c49"
      },
      "execution_count": 32,
      "outputs": [
        {
          "output_type": "stream",
          "name": "stdout",
          "text": [
            "\u001b[1mdiff --git a/test/example.py b/test/example.py\u001b[m\n",
            "\u001b[1mindex 97360a6..e5aba2a 100644\u001b[m\n",
            "\u001b[1m--- a/test/example.py\u001b[m\n",
            "\u001b[1m+++ b/test/example.py\u001b[m\n",
            "\u001b[36m@@ -1,9 +1,9 @@\u001b[m\n",
            " \"\"\"\u001b[m\n",
            "\u001b[31m-This is an example Python file\u001b[m\n",
            "\u001b[32m+\u001b[m\u001b[32mText manipulation utilities\u001b[m\n",
            " \"\"\"\u001b[m\n",
            " \u001b[m\n",
            " def capitalize(text):\u001b[m\n",
            "\u001b[31m-    return text.lower()\u001b[m\n",
            "\u001b[32m+\u001b[m\u001b[32m    return text.capitalize()\u001b[m\n",
            " \u001b[m\n",
            " if __name__ == \"__main__\":\u001b[m\n",
            "     print(capitalize(\"testing\"))\u001b[m\n"
          ]
        }
      ]
    },
    {
      "cell_type": "code",
      "source": [
        "!git commit -m \"bugfix: capitalize and upper are different concepts\""
      ],
      "metadata": {
        "colab": {
          "base_uri": "https://localhost:8080/"
        },
        "id": "FRWAl_wnbHwk",
        "outputId": "1ad97c35-b09e-4f9e-86c9-2152fa96deb0"
      },
      "execution_count": 20,
      "outputs": [
        {
          "output_type": "stream",
          "name": "stdout",
          "text": [
            "[master c3305cd] bugfix: capitalize and upper are different concepts\n",
            " 1 file changed, 1 insertion(+), 1 deletion(-)\n"
          ]
        }
      ]
    },
    {
      "cell_type": "markdown",
      "metadata": {
        "id": "uujLtO_SJF4y"
      },
      "source": [
        "Your git graph - the representation of your commits - now looks like this."
      ]
    },
    {
      "cell_type": "code",
      "execution_count": 21,
      "metadata": {
        "hideCode": true,
        "id": "_B9x1F4SJF4z",
        "outputId": "6fa09f7d-1d36-48db-8bd4-2fd0c81b7c51",
        "colab": {
          "base_uri": "https://localhost:8080/",
          "height": 17
        }
      },
      "outputs": [
        {
          "output_type": "display_data",
          "data": {
            "text/plain": [
              "<IPython.core.display.Javascript object>"
            ],
            "application/javascript": [
              "\n",
              "getGitGraph(element, function (gitgraph) {\n",
              "    console.log(gitgraph);\n",
              "    var master = gitgraph.branch(\"master\");\n",
              "    master.commit(\"Initial commit\");\n",
              "    master.commit(\"improve utility file docstring\");\n",
              "    master.commit(\"bugfix: capitalize and upper are different concepts\");\n",
              "});\n"
            ]
          },
          "metadata": {}
        }
      ],
      "source": [
        "%%javascript\n",
        "\n",
        "getGitGraph(element, function (gitgraph) {\n",
        "    console.log(gitgraph);\n",
        "    var master = gitgraph.branch(\"master\");\n",
        "    master.commit(\"Initial commit\");\n",
        "    master.commit(\"improve utility file docstring\");\n",
        "    master.commit(\"bugfix: capitalize and upper are different concepts\");\n",
        "});"
      ]
    },
    {
      "cell_type": "markdown",
      "metadata": {
        "id": "IUVvOeA8JF40"
      },
      "source": [
        "You can examine differences between historic commits using their hashes. Hashes are their permanent, unique names - these long random sequences of letters and numbers, but you can refer to a commit by the first few characters, provided they are sufficient to distinguish it from all the other commits. Conventionally, git (and most git-based tools) show the first 6 characters by default."
      ]
    },
    {
      "cell_type": "code",
      "execution_count": 35,
      "metadata": {
        "id": "49hpmt1XJF40",
        "outputId": "b2f69c5a-4df9-42f8-bbe0-ce34a10e30a7",
        "colab": {
          "base_uri": "https://localhost:8080/"
        }
      },
      "outputs": [
        {
          "output_type": "stream",
          "name": "stdout",
          "text": [
            "\u001b[33m4644885\u001b[m\u001b[33m (\u001b[m\u001b[1;36mHEAD -> \u001b[m\u001b[1;32mmaster\u001b[m\u001b[33m)\u001b[m bugfix: capitalize and upper are different concepts\n",
            "\u001b[33m1feaa16\u001b[m improve utility file docstring\n",
            "\u001b[33m867ee95\u001b[m Initial commit\n"
          ]
        }
      ],
      "source": [
        "!git log --oneline"
      ]
    },
    {
      "cell_type": "markdown",
      "metadata": {
        "id": "4JZ0jIcmJF40"
      },
      "source": [
        "## Branches & Merges"
      ]
    },
    {
      "cell_type": "markdown",
      "metadata": {
        "id": "-9J2uDQIJF41"
      },
      "source": [
        "So far our commits have been very, well, linear. One after the next - if development was that easy, we wouldn't need complex tools like git. Most of you will have come across Github branches, and merge/pull requests, but its helpful to see that on the command line to understand the how and why."
      ]
    },
    {
      "cell_type": "markdown",
      "metadata": {
        "id": "8dClD2GgJF41"
      },
      "source": [
        "Our default branch is called `master`. Beyond that, practice varies, but most common flows will have code ultimately being brought back to master, as the most stable, slowly-moving reference version. However, for developing or collaborating on new features and bug-fixes, changes are generally first created on other branches.\n",
        "\n",
        "Lets create a new branch."
      ]
    },
    {
      "cell_type": "code",
      "execution_count": 22,
      "metadata": {
        "id": "nMSfQe8EJF41"
      },
      "outputs": [],
      "source": [
        "!git branch feature-reverse-string"
      ]
    },
    {
      "cell_type": "markdown",
      "metadata": {
        "id": "tw8O_xAQJF42"
      },
      "source": [
        "This has now created a new branch, at the same point as master. However, we are still sitting on master - any commits we do will go there. We need to \"checkout\" our branch, to switch to it."
      ]
    },
    {
      "cell_type": "code",
      "execution_count": 23,
      "metadata": {
        "id": "NWxQbFqIJF42",
        "outputId": "c4677777-4fc3-41a9-b58a-a912fcb09e75",
        "colab": {
          "base_uri": "https://localhost:8080/"
        }
      },
      "outputs": [
        {
          "output_type": "stream",
          "name": "stdout",
          "text": [
            "Switched to branch 'feature-reverse-string'\n"
          ]
        }
      ],
      "source": [
        "!git checkout feature-reverse-string"
      ]
    },
    {
      "cell_type": "markdown",
      "metadata": {
        "id": "Ne8NBeCOJF43"
      },
      "source": [
        "It is possible to do those in one movement - `git checkout -b feature-reverse-string`, which will create and checkout a new branch for you."
      ]
    },
    {
      "cell_type": "code",
      "execution_count": 38,
      "metadata": {
        "id": "WK6GUMiFJF44",
        "outputId": "410797c3-3ed5-4c31-b8c2-20729adcaed0",
        "colab": {
          "base_uri": "https://localhost:8080/"
        }
      },
      "outputs": [
        {
          "output_type": "stream",
          "name": "stdout",
          "text": [
            "On branch feature-reverse-string\n",
            "Untracked files:\n",
            "  (use \"git add <file>...\" to include in what will be committed)\n",
            "\t\u001b[31m.config/\u001b[m\n",
            "\t\u001b[31msample_data/\u001b[m\n",
            "\n",
            "nothing added to commit but untracked files present (use \"git add\" to track)\n"
          ]
        }
      ],
      "source": [
        "!git status"
      ]
    },
    {
      "cell_type": "markdown",
      "metadata": {
        "id": "LLDIgMB9JF47"
      },
      "source": [
        "It is generally a good idea to do `git status` at this point (if not before) to make sure you do not have changes you meant to commit to the previous branch, still hanging about."
      ]
    },
    {
      "cell_type": "markdown",
      "metadata": {
        "id": "E03gP3xlJF48"
      },
      "source": [
        "Here is a short Python function - it exploits the \"step\" option in slicing to step backwards, instead of forwards, and create a reversed string (or list, etc.)."
      ]
    },
    {
      "cell_type": "code",
      "execution_count": null,
      "metadata": {
        "id": "uG47JwEiJF49"
      },
      "outputs": [],
      "source": [
        "def reverse(text):\n",
        "    return text[::-1]"
      ]
    },
    {
      "cell_type": "code",
      "execution_count": null,
      "metadata": {
        "id": "hLF9MJPlJF4-",
        "outputId": "6c1c1891-4226-41c2-ead9-c030c961387b",
        "colab": {
          "base_uri": "https://localhost:8080/"
        }
      },
      "outputs": [
        {
          "output_type": "stream",
          "name": "stdout",
          "text": [
            "gnitseT\n"
          ]
        }
      ],
      "source": [
        "print(reverse(\"Testing\"))"
      ]
    },
    {
      "cell_type": "markdown",
      "metadata": {
        "id": "yEEpm-O0JF5A"
      },
      "source": [
        "Add this to `example.py` - the reverse function directly below the capitalize function, and the print-statement at the very end of the file, indented to match the `print(capitalize('testing'))` line. We will go more into testing later in the course, but think of this as a minimal way to check our code!"
      ]
    },
    {
      "cell_type": "code",
      "source": [
        "# Read the contents of the example.py file\n",
        "with open('test/example.py', 'r') as file:\n",
        "    lines = file.readlines()\n",
        "\n",
        "# Define the reverse function and print statement\n",
        "reverse_function = \"\\ndef reverse(text):\\n    return text[::-1]\\n\"\n",
        "print_statement = \"    print(reverse(\\\"Testing\\\"))\"\n",
        "\n",
        "# Insert the reverse function after the capitalize function\n",
        "for i, line in enumerate(lines):\n",
        "    if line.strip() == \"def capitalize(text):\":\n",
        "        lines.insert(i + 2, reverse_function)  # Insert after capitalize function\n",
        "        break\n",
        "\n",
        "# Add the print statement at the end of the file\n",
        "for i, line in enumerate(lines):\n",
        "    if line.strip() == \"if __name__ == \\\"__main__\\\":\":\n",
        "        lines.insert(i + 2, print_statement)  # Insert after the print(capitalize('testing')) line\n",
        "        break\n",
        "\n",
        "# Write the updated content back to the file\n",
        "with open('test/example.py', 'w') as file:\n",
        "    file.writelines(lines)\n"
      ],
      "metadata": {
        "id": "4dgluvU9w1xD"
      },
      "execution_count": 24,
      "outputs": []
    },
    {
      "cell_type": "code",
      "execution_count": 36,
      "metadata": {
        "id": "qbZMhwZ6JF5A",
        "outputId": "2221c44e-ab9e-4032-cff6-7a460003d190",
        "colab": {
          "base_uri": "https://localhost:8080/"
        }
      },
      "outputs": [
        {
          "output_type": "stream",
          "name": "stdout",
          "text": [
            "Testing\n",
            "gnitseT\n"
          ]
        }
      ],
      "source": [
        "!python3 test/example.py"
      ]
    },
    {
      "cell_type": "markdown",
      "metadata": {
        "id": "FNc2w5tNJF5B"
      },
      "source": [
        "Let's now add and commit that."
      ]
    },
    {
      "cell_type": "code",
      "execution_count": 26,
      "metadata": {
        "id": "jkGKvOAkJF5B",
        "outputId": "443d4ad7-127f-425d-a335-ec25564163c8",
        "colab": {
          "base_uri": "https://localhost:8080/"
        }
      },
      "outputs": [
        {
          "output_type": "stream",
          "name": "stdout",
          "text": [
            "[feature-reverse-string d91a895] added a utility to reverse a string\n",
            " 1 file changed, 4 insertions(+)\n"
          ]
        }
      ],
      "source": [
        "!git add test/example.py\n",
        "!git commit -m \"added a utility to reverse a string\""
      ]
    },
    {
      "cell_type": "markdown",
      "metadata": {
        "id": "gFen22lXJF5B"
      },
      "source": [
        "Our git graph looks like this:"
      ]
    },
    {
      "cell_type": "code",
      "execution_count": 27,
      "metadata": {
        "hideCode": true,
        "id": "SFCIr6_NJF5B",
        "outputId": "b0d96826-965d-4ff5-9d7e-fe27fd3b89a1",
        "colab": {
          "base_uri": "https://localhost:8080/",
          "height": 17
        }
      },
      "outputs": [
        {
          "output_type": "display_data",
          "data": {
            "text/plain": [
              "<IPython.core.display.Javascript object>"
            ],
            "application/javascript": [
              "\n",
              "getGitGraph(element, function (gitgraph) {\n",
              "    console.log(gitgraph);\n",
              "    var master = gitgraph.branch(\"master\");\n",
              "    master.commit(\"Initial commit\");\n",
              "    master.commit(\"improve utility file docstring\");\n",
              "    master.commit(\"bugfix: capitalize and upper are different concepts\");\n",
              "    var feature = master.branch(\"feature-reverse-string\");\n",
              "    feature.commit(\"added a utility to reverse a string\")\n",
              "});\n"
            ]
          },
          "metadata": {}
        }
      ],
      "source": [
        "%%javascript\n",
        "\n",
        "getGitGraph(element, function (gitgraph) {\n",
        "    console.log(gitgraph);\n",
        "    var master = gitgraph.branch(\"master\");\n",
        "    master.commit(\"Initial commit\");\n",
        "    master.commit(\"improve utility file docstring\");\n",
        "    master.commit(\"bugfix: capitalize and upper are different concepts\");\n",
        "    var feature = master.branch(\"feature-reverse-string\");\n",
        "    feature.commit(\"added a utility to reverse a string\")\n",
        "});"
      ]
    },
    {
      "cell_type": "markdown",
      "metadata": {
        "id": "mMJn8c-9JF5C"
      },
      "source": [
        "We could do a merge back into master at this point, but particularly as you are likely to have seen this in one form or other a number of times before, we will look at what happens in the non-trivial case. Lets suppose an urgent bug-report comes in. A hot-fix needs to be created to address the case where text is a list of characters, rather than a string."
      ]
    },
    {
      "cell_type": "code",
      "execution_count": null,
      "metadata": {
        "id": "sPh2RSMDJF5C"
      },
      "outputs": [],
      "source": [
        "another_text = list(\"another text\")"
      ]
    },
    {
      "cell_type": "code",
      "execution_count": null,
      "metadata": {
        "id": "3TLUSNTlJF5D",
        "outputId": "e4ccb0ff-f019-4a5a-9967-55dd4489c0cc",
        "colab": {
          "base_uri": "https://localhost:8080/",
          "height": 35
        }
      },
      "outputs": [
        {
          "output_type": "execute_result",
          "data": {
            "text/plain": [
              "'Another text'"
            ],
            "application/vnd.google.colaboratory.intrinsic+json": {
              "type": "string"
            }
          },
          "metadata": {},
          "execution_count": 29
        }
      ],
      "source": [
        "def capitalize(text):\n",
        "    if type(text) is not str:\n",
        "        text = ''.join(text)\n",
        "    return text.capitalize()\n",
        "\n",
        "capitalize(another_text)"
      ]
    },
    {
      "cell_type": "markdown",
      "metadata": {
        "id": "DXQDBff-JF5D"
      },
      "source": [
        "This will fix our problem (it'll do for this example!). However, the change is urgent, so how do we apply the fix, and commit it without accidentally dragging in our new feature?"
      ]
    },
    {
      "cell_type": "markdown",
      "metadata": {
        "id": "JBXhRVZXJF5E"
      },
      "source": [
        "This is a key point of branches. Having checked our feature branch is clean - i.e. that we have committed any changes - we switch back to master."
      ]
    },
    {
      "cell_type": "code",
      "execution_count": 37,
      "metadata": {
        "id": "jG9m4xFcJF5E",
        "outputId": "045d2eae-18d9-4e7e-adfb-79dce81cf3b9",
        "colab": {
          "base_uri": "https://localhost:8080/"
        }
      },
      "outputs": [
        {
          "output_type": "stream",
          "name": "stdout",
          "text": [
            "Switched to branch 'master'\n"
          ]
        }
      ],
      "source": [
        "!git checkout master"
      ]
    },
    {
      "cell_type": "markdown",
      "metadata": {
        "id": "OngS1ZGYJF5E"
      },
      "source": [
        "You can check the example.py file to confirm that our new feature has gone."
      ]
    },
    {
      "cell_type": "code",
      "execution_count": 38,
      "metadata": {
        "id": "piSQzfrTJF5E",
        "outputId": "bc8ea061-0029-46e5-deba-6aef4f6e6cbc",
        "colab": {
          "base_uri": "https://localhost:8080/"
        }
      },
      "outputs": [
        {
          "output_type": "stream",
          "name": "stdout",
          "text": [
            "fatal: A branch named 'fix-ensure-lists-do-not-break-capitalize' already exists.\n"
          ]
        }
      ],
      "source": [
        "!git checkout -b fix-ensure-lists-do-not-break-capitalize"
      ]
    },
    {
      "cell_type": "markdown",
      "metadata": {
        "id": "P4Vby6RHJF5F"
      },
      "source": [
        "We now swap in our capitalize method to example.py. Let's also add this check at the bottom of the file..."
      ]
    },
    {
      "cell_type": "code",
      "execution_count": null,
      "metadata": {
        "id": "qLpdMmKNJF5F",
        "colab": {
          "base_uri": "https://localhost:8080/"
        },
        "outputId": "d8e6e846-6c65-4671-adc6-9918679931d2"
      },
      "outputs": [
        {
          "output_type": "stream",
          "name": "stdout",
          "text": [
            "Ab c\n"
          ]
        }
      ],
      "source": [
        "print(capitalize(['a', 'b', ' ', 'c']))"
      ]
    },
    {
      "cell_type": "markdown",
      "metadata": {
        "id": "yi1VWzt5JF5F"
      },
      "source": [
        "We add and commit our change..."
      ]
    },
    {
      "cell_type": "code",
      "source": [
        "!git status"
      ],
      "metadata": {
        "colab": {
          "base_uri": "https://localhost:8080/"
        },
        "id": "JlwtS6iORt7n",
        "outputId": "44d264dd-b5ed-40ee-a90c-57f13a2dae4b"
      },
      "execution_count": 41,
      "outputs": [
        {
          "output_type": "stream",
          "name": "stdout",
          "text": [
            "On branch fix-ensure-lists-do-not-break-capitalize\n",
            "Untracked files:\n",
            "  (use \"git add <file>...\" to include in what will be committed)\n",
            "\t\u001b[31m.config/\u001b[m\n",
            "\t\u001b[31msample_data/\u001b[m\n",
            "\n",
            "nothing added to commit but untracked files present (use \"git add\" to track)\n"
          ]
        }
      ]
    },
    {
      "cell_type": "code",
      "source": [
        "# Path to the file\n",
        "file_path = 'test/example.py'\n",
        "\n",
        "# Define the new content to add\n",
        "new_code = '''\n",
        "def capitalize(text):\n",
        "    if type(text) is not str:\n",
        "        text = ''.join(text)\n",
        "    return text.capitalize()\n",
        "\n",
        "another_text = list(\"another text\")\n",
        "print(capitalize(another_text))\n",
        "'''\n",
        "\n",
        "# Read the existing content of the file\n",
        "with open(file_path, 'r') as file:\n",
        "    content = file.readlines()\n",
        "\n",
        "# Append the new content to the file\n",
        "with open(file_path, 'a') as file:\n",
        "    file.write(new_code)\n"
      ],
      "metadata": {
        "id": "EZY53U2AR8H6"
      },
      "execution_count": 42,
      "outputs": []
    },
    {
      "cell_type": "code",
      "execution_count": 43,
      "metadata": {
        "id": "Lx49M6gWJF5F"
      },
      "outputs": [],
      "source": [
        "!git add test/example.py"
      ]
    },
    {
      "cell_type": "code",
      "source": [
        "!git status"
      ],
      "metadata": {
        "colab": {
          "base_uri": "https://localhost:8080/"
        },
        "outputId": "2ee101be-4588-441b-f217-fda8a009d0a1",
        "id": "l0mTEe6cSSBf"
      },
      "execution_count": 44,
      "outputs": [
        {
          "output_type": "stream",
          "name": "stdout",
          "text": [
            "On branch fix-ensure-lists-do-not-break-capitalize\n",
            "Changes to be committed:\n",
            "  (use \"git restore --staged <file>...\" to unstage)\n",
            "\t\u001b[32mmodified:   test/example.py\u001b[m\n",
            "\n",
            "Untracked files:\n",
            "  (use \"git add <file>...\" to include in what will be committed)\n",
            "\t\u001b[31m.config/\u001b[m\n",
            "\t\u001b[31msample_data/\u001b[m\n",
            "\n"
          ]
        }
      ]
    },
    {
      "cell_type": "code",
      "source": [
        "!git commit -m \"ensure lists do not break capitalization utility\""
      ],
      "metadata": {
        "colab": {
          "base_uri": "https://localhost:8080/"
        },
        "id": "ZV-fkU1VSMxT",
        "outputId": "1dcf3eff-4ffa-4336-a7c7-9a0ee60800f2"
      },
      "execution_count": 45,
      "outputs": [
        {
          "output_type": "stream",
          "name": "stdout",
          "text": [
            "[fix-ensure-lists-do-not-break-capitalize 1c6cbb6] ensure lists do not break capitalization utility\n",
            " 1 file changed, 8 insertions(+)\n"
          ]
        }
      ]
    },
    {
      "cell_type": "code",
      "execution_count": 46,
      "metadata": {
        "outputId": "049a4f12-8309-4f7e-9051-c22a45984b78",
        "colab": {
          "base_uri": "https://localhost:8080/"
        },
        "id": "iAzJLABJSvAJ"
      },
      "outputs": [
        {
          "output_type": "stream",
          "name": "stdout",
          "text": [
            "Testing\n",
            "Another text\n"
          ]
        }
      ],
      "source": [
        "!python3 test/example.py"
      ]
    },
    {
      "cell_type": "markdown",
      "metadata": {
        "id": "_goGK-NsJF5F"
      },
      "source": [
        "Our git tree now looks like this:"
      ]
    },
    {
      "cell_type": "code",
      "execution_count": 47,
      "metadata": {
        "hideCode": true,
        "id": "vJ6vf7TjJF5G",
        "outputId": "6f1ab302-d9f7-437a-a411-31c0eb2e7b55",
        "colab": {
          "base_uri": "https://localhost:8080/",
          "height": 17
        }
      },
      "outputs": [
        {
          "output_type": "display_data",
          "data": {
            "text/plain": [
              "<IPython.core.display.Javascript object>"
            ],
            "application/javascript": [
              "\n",
              "getGitGraph(element, function (gitgraph) {\n",
              "    console.log(gitgraph);\n",
              "    var master = gitgraph.branch(\"master\");\n",
              "    master.commit(\"Initial commit\");\n",
              "    master.commit(\"improve utility file docstring\");\n",
              "    master.commit(\"bugfix: capitalize and upper are different concepts\");\n",
              "    var feature = master.branch(\"feature-reverse-string\");\n",
              "    feature.commit(\"added a utility to reverse a string\");\n",
              "    var hotfix = master.branch(\"fix-ensure-lists-do-not-break-capitalize\");\n",
              "    hotfix.commit(\"ensure lists do not break capitalization utility\");\n",
              "});\n"
            ]
          },
          "metadata": {}
        }
      ],
      "source": [
        "%%javascript\n",
        "\n",
        "getGitGraph(element, function (gitgraph) {\n",
        "    console.log(gitgraph);\n",
        "    var master = gitgraph.branch(\"master\");\n",
        "    master.commit(\"Initial commit\");\n",
        "    master.commit(\"improve utility file docstring\");\n",
        "    master.commit(\"bugfix: capitalize and upper are different concepts\");\n",
        "    var feature = master.branch(\"feature-reverse-string\");\n",
        "    feature.commit(\"added a utility to reverse a string\");\n",
        "    var hotfix = master.branch(\"fix-ensure-lists-do-not-break-capitalize\");\n",
        "    hotfix.commit(\"ensure lists do not break capitalization utility\");\n",
        "});"
      ]
    },
    {
      "cell_type": "markdown",
      "metadata": {
        "id": "AKX7_cDeJF5G"
      },
      "source": [
        "Git can also visualize this in ASCII-art:"
      ]
    },
    {
      "cell_type": "code",
      "execution_count": 48,
      "metadata": {
        "id": "5jVwo2k_JF5G",
        "outputId": "2318e84f-5caa-4563-eea3-c023f66dc7a9",
        "colab": {
          "base_uri": "https://localhost:8080/"
        }
      },
      "outputs": [
        {
          "output_type": "stream",
          "name": "stdout",
          "text": [
            "* \u001b[33m1c6cbb6\u001b[m\u001b[33m (\u001b[m\u001b[1;36mHEAD -> \u001b[m\u001b[1;32mfix-ensure-lists-do-not-break-capitalize\u001b[m\u001b[33m)\u001b[m ensure lists do not break capitalization utility\n",
            "\u001b[31m|\u001b[m * \u001b[33md91a895\u001b[m\u001b[33m (\u001b[m\u001b[1;32mfeature-reverse-string\u001b[m\u001b[33m)\u001b[m added a utility to reverse a string\n",
            "\u001b[31m|\u001b[m\u001b[31m/\u001b[m  \n",
            "* \u001b[33mc3305cd\u001b[m\u001b[33m (\u001b[m\u001b[1;32mmaster\u001b[m\u001b[33m)\u001b[m bugfix: capitalize and upper are different concepts\n",
            "* \u001b[33m61a990e\u001b[m improve utility file docstring\n",
            "* \u001b[33m28f361e\u001b[m Initial commit\n"
          ]
        }
      ],
      "source": [
        "!git log --all --decorate --oneline --graph"
      ]
    },
    {
      "cell_type": "markdown",
      "metadata": {
        "id": "AnhmDrI9JF5G"
      },
      "source": [
        "Now, in reality, we would push this to a remote server, and create a merge/pull request to be reviewed, but for simplicity here, let's assume we can merge it ourselves (or that we have pulled these changes from someone else, and are manually merging it for them)."
      ]
    },
    {
      "cell_type": "code",
      "execution_count": 49,
      "metadata": {
        "id": "ZfEKUvbPJF5H",
        "outputId": "ea6ed16a-4211-4a7b-bc83-d866996c2f2d",
        "colab": {
          "base_uri": "https://localhost:8080/"
        }
      },
      "outputs": [
        {
          "output_type": "stream",
          "name": "stdout",
          "text": [
            "Switched to branch 'master'\n"
          ]
        }
      ],
      "source": [
        "!git checkout master"
      ]
    },
    {
      "cell_type": "code",
      "execution_count": 50,
      "metadata": {
        "id": "_gs6GpNNJF5H",
        "outputId": "e2187bde-d133-452b-9a31-3d2048a54b57",
        "colab": {
          "base_uri": "https://localhost:8080/"
        }
      },
      "outputs": [
        {
          "output_type": "stream",
          "name": "stdout",
          "text": [
            "Updating c3305cd..1c6cbb6\n",
            "Fast-forward\n",
            " test/example.py | 8 \u001b[32m++++++++\u001b[m\n",
            " 1 file changed, 8 insertions(+)\n"
          ]
        }
      ],
      "source": [
        "!git merge fix-ensure-lists-do-not-break-capitalize"
      ]
    },
    {
      "cell_type": "code",
      "source": [
        "!git log --all --decorate --oneline --graph"
      ],
      "metadata": {
        "colab": {
          "base_uri": "https://localhost:8080/"
        },
        "id": "75Ze6a2Q2eqa",
        "outputId": "79282ad0-f4e8-4260-881b-7aa2e0b039cd"
      },
      "execution_count": 51,
      "outputs": [
        {
          "output_type": "stream",
          "name": "stdout",
          "text": [
            "* \u001b[33m1c6cbb6\u001b[m\u001b[33m (\u001b[m\u001b[1;36mHEAD -> \u001b[m\u001b[1;32mmaster\u001b[m\u001b[33m, \u001b[m\u001b[1;32mfix-ensure-lists-do-not-break-capitalize\u001b[m\u001b[33m)\u001b[m ensure lists do not break capitalization utility\n",
            "\u001b[31m|\u001b[m * \u001b[33md91a895\u001b[m\u001b[33m (\u001b[m\u001b[1;32mfeature-reverse-string\u001b[m\u001b[33m)\u001b[m added a utility to reverse a string\n",
            "\u001b[31m|\u001b[m\u001b[31m/\u001b[m  \n",
            "* \u001b[33mc3305cd\u001b[m bugfix: capitalize and upper are different concepts\n",
            "* \u001b[33m61a990e\u001b[m improve utility file docstring\n",
            "* \u001b[33m28f361e\u001b[m Initial commit\n"
          ]
        }
      ]
    },
    {
      "cell_type": "code",
      "source": [
        "!git status"
      ],
      "metadata": {
        "colab": {
          "base_uri": "https://localhost:8080/"
        },
        "id": "bC7tRHE6WHgu",
        "outputId": "ab6fd3da-22cb-44cb-c2fa-f81dede10ac8"
      },
      "execution_count": 52,
      "outputs": [
        {
          "output_type": "stream",
          "name": "stdout",
          "text": [
            "On branch master\n",
            "Untracked files:\n",
            "  (use \"git add <file>...\" to include in what will be committed)\n",
            "\t\u001b[31m.config/\u001b[m\n",
            "\t\u001b[31msample_data/\u001b[m\n",
            "\n",
            "nothing added to commit but untracked files present (use \"git add\" to track)\n"
          ]
        }
      ]
    },
    {
      "cell_type": "markdown",
      "metadata": {
        "id": "SMkjtxiXJF5H"
      },
      "source": [
        "This has just applied the changes from the hotfix to master."
      ]
    },
    {
      "cell_type": "code",
      "execution_count": 53,
      "metadata": {
        "hideCode": true,
        "id": "-xFyW9lnJF5I",
        "outputId": "f181be76-af5f-4fff-b70f-4542fd4c4a26",
        "colab": {
          "base_uri": "https://localhost:8080/",
          "height": 17
        }
      },
      "outputs": [
        {
          "output_type": "display_data",
          "data": {
            "text/plain": [
              "<IPython.core.display.Javascript object>"
            ],
            "application/javascript": [
              "\n",
              "getGitGraph(element, function (gitgraph) {\n",
              "    console.log(gitgraph);\n",
              "    var master = gitgraph.branch(\"master\");\n",
              "    master.commit(\"Initial commit\");\n",
              "    master.commit(\"improve utility file docstring\");\n",
              "    master.commit(\"bugfix: capitalize and upper are different concepts\");\n",
              "    var feature = master.branch(\"feature-reverse-string\");\n",
              "    feature.commit(\"added a utility to reverse a string\");\n",
              "    var hotfix = master.branch(\"fix-ensure-lists-do-not-break-capitalize\");\n",
              "    hotfix.commit(\"ensure lists do not break capitalization utility\");\n",
              "    master.merge(hotfix);\n",
              "});\n"
            ]
          },
          "metadata": {}
        }
      ],
      "source": [
        "%%javascript\n",
        "\n",
        "getGitGraph(element, function (gitgraph) {\n",
        "    console.log(gitgraph);\n",
        "    var master = gitgraph.branch(\"master\");\n",
        "    master.commit(\"Initial commit\");\n",
        "    master.commit(\"improve utility file docstring\");\n",
        "    master.commit(\"bugfix: capitalize and upper are different concepts\");\n",
        "    var feature = master.branch(\"feature-reverse-string\");\n",
        "    feature.commit(\"added a utility to reverse a string\");\n",
        "    var hotfix = master.branch(\"fix-ensure-lists-do-not-break-capitalize\");\n",
        "    hotfix.commit(\"ensure lists do not break capitalization utility\");\n",
        "    master.merge(hotfix);\n",
        "});"
      ]
    },
    {
      "cell_type": "code",
      "source": [
        "!git log --all --decorate --oneline --graph"
      ],
      "metadata": {
        "colab": {
          "base_uri": "https://localhost:8080/"
        },
        "id": "3bE5eAf42nVt",
        "outputId": "4e91096f-f0ec-4075-80b3-f5278c12172d"
      },
      "execution_count": 54,
      "outputs": [
        {
          "output_type": "stream",
          "name": "stdout",
          "text": [
            "* \u001b[33m1c6cbb6\u001b[m\u001b[33m (\u001b[m\u001b[1;36mHEAD -> \u001b[m\u001b[1;32mmaster\u001b[m\u001b[33m, \u001b[m\u001b[1;32mfix-ensure-lists-do-not-break-capitalize\u001b[m\u001b[33m)\u001b[m ensure lists do not break capitalization utility\n",
            "\u001b[31m|\u001b[m * \u001b[33md91a895\u001b[m\u001b[33m (\u001b[m\u001b[1;32mfeature-reverse-string\u001b[m\u001b[33m)\u001b[m added a utility to reverse a string\n",
            "\u001b[31m|\u001b[m\u001b[31m/\u001b[m  \n",
            "* \u001b[33mc3305cd\u001b[m bugfix: capitalize and upper are different concepts\n",
            "* \u001b[33m61a990e\u001b[m improve utility file docstring\n",
            "* \u001b[33m28f361e\u001b[m Initial commit\n"
          ]
        }
      ]
    },
    {
      "cell_type": "markdown",
      "metadata": {
        "id": "p-T9c4i9JF5I"
      },
      "source": [
        "Let's now go back to our feature branch and merge it into master too."
      ]
    },
    {
      "cell_type": "code",
      "execution_count": 55,
      "metadata": {
        "id": "bH9MJys1JF5J",
        "outputId": "d5ced1d4-4adc-42b7-dddc-d02e6299d8f8",
        "colab": {
          "base_uri": "https://localhost:8080/"
        }
      },
      "outputs": [
        {
          "output_type": "stream",
          "name": "stdout",
          "text": [
            "Auto-merging test/example.py\n",
            "CONFLICT (content): Merge conflict in test/example.py\n",
            "Automatic merge failed; fix conflicts and then commit the result.\n"
          ]
        }
      ],
      "source": [
        "!git merge feature-reverse-string"
      ]
    },
    {
      "cell_type": "markdown",
      "metadata": {
        "id": "zl2xivIDJF5J"
      },
      "source": [
        "In this case, we may see a Merge conflict -- this means that git was not able to automatically merge the hotfix changes already on master, with the feature branch changes you are now merging. Probably because both added lines in the same place, so it doesn't know how to order them, or if only one should be chosen.\n",
        "\n",
        "In fact, it has left us up-in-the-air - the file mention (test/example.py) contains \"merge annotations\", textual notes showing what we need to manually fix, before the merge can finish.\n",
        "\n",
        "You'll find it looks something like this."
      ]
    },
    {
      "cell_type": "markdown",
      "metadata": {
        "id": "UMYaIeAeJF5J"
      },
      "source": [
        "```\n",
        "\"\"\"\n",
        "This is an example Python file\n",
        "\"\"\"\n",
        "\n",
        "def capitalize(text):\n",
        "<<<<<<< HEAD\n",
        "...\n",
        "\n",
        "=======\n",
        "...\n",
        ">>>>>>> feature-reverse-string\n",
        "```"
      ]
    },
    {
      "cell_type": "markdown",
      "metadata": {
        "id": "m0jYWRefJF5K"
      },
      "source": [
        "You have to manually work out which parts between `<<<<<<< HEAD` and `======` should be kept/deleted, and which parts between `======` and `>>>>>>>> feature-reverse-string` should be kept/deleted. Make 100% sure to delete the merge annotations themselves! When you are confident the script should work as intended, double-check:"
      ]
    },
    {
      "cell_type": "code",
      "execution_count": 56,
      "metadata": {
        "id": "Ix5AGXaeJF5K",
        "outputId": "c5130bdb-4920-4474-8b9f-069f5f2ad6d1",
        "colab": {
          "base_uri": "https://localhost:8080/"
        }
      },
      "outputs": [
        {
          "output_type": "stream",
          "name": "stdout",
          "text": [
            "Testing\n",
            "gnitseT\n",
            "Another text\n"
          ]
        }
      ],
      "source": [
        "!python3 test/example.py"
      ]
    },
    {
      "cell_type": "markdown",
      "metadata": {
        "id": "aBUh3SFGJF5K"
      },
      "source": [
        "Finally, complete the merge:"
      ]
    },
    {
      "cell_type": "code",
      "execution_count": 57,
      "metadata": {
        "id": "Om9VNYgZJF5K",
        "outputId": "42ac3ac9-c394-48ab-abb9-4724e50a2b5f",
        "colab": {
          "base_uri": "https://localhost:8080/"
        }
      },
      "outputs": [
        {
          "output_type": "stream",
          "name": "stdout",
          "text": [
            "[master cb92608] merged lists hotfix and reversing feature\n"
          ]
        }
      ],
      "source": [
        "!git add test/example.py\n",
        "!git commit -m \"merged lists hotfix and reversing feature\""
      ]
    },
    {
      "cell_type": "markdown",
      "metadata": {
        "id": "QVkFlLSfJF5M"
      },
      "source": [
        "The git tree now looks like:"
      ]
    },
    {
      "cell_type": "code",
      "execution_count": 59,
      "metadata": {
        "hideCode": true,
        "hideOutput": false,
        "id": "4txw4SWGJF5M",
        "outputId": "00026c8e-c718-406d-be04-4d37fe60c904",
        "colab": {
          "base_uri": "https://localhost:8080/",
          "height": 17
        }
      },
      "outputs": [
        {
          "output_type": "display_data",
          "data": {
            "text/plain": [
              "<IPython.core.display.Javascript object>"
            ],
            "application/javascript": [
              "\n",
              "getGitGraph(element, function (gitgraph) {\n",
              "    console.log(gitgraph);\n",
              "    var master = gitgraph.branch(\"master\");\n",
              "    master.commit(\"Initial commit\");\n",
              "    master.commit(\"improve utility file docstring\");\n",
              "    master.commit(\"bugfix: capitalize and upper are different concepts\");\n",
              "    var feature = master.branch(\"feature-reverse-string\");\n",
              "    feature.commit(\"added a utility to reverse a string\");\n",
              "    var hotfix = master.branch(\"fix-ensure-lists-do-not-break-capitalize\");\n",
              "    hotfix.commit(\"ensure lists do not break capitalization utility\");\n",
              "    master.merge(hotfix);\n",
              "    master.merge(feature);\n",
              "});\n"
            ]
          },
          "metadata": {}
        }
      ],
      "source": [
        "%%javascript\n",
        "\n",
        "getGitGraph(element, function (gitgraph) {\n",
        "    console.log(gitgraph);\n",
        "    var master = gitgraph.branch(\"master\");\n",
        "    master.commit(\"Initial commit\");\n",
        "    master.commit(\"improve utility file docstring\");\n",
        "    master.commit(\"bugfix: capitalize and upper are different concepts\");\n",
        "    var feature = master.branch(\"feature-reverse-string\");\n",
        "    feature.commit(\"added a utility to reverse a string\");\n",
        "    var hotfix = master.branch(\"fix-ensure-lists-do-not-break-capitalize\");\n",
        "    hotfix.commit(\"ensure lists do not break capitalization utility\");\n",
        "    master.merge(hotfix);\n",
        "    master.merge(feature);\n",
        "});"
      ]
    },
    {
      "cell_type": "code",
      "execution_count": 60,
      "metadata": {
        "id": "LC5zzuouJF5M",
        "outputId": "b5abcd6e-a7c7-4b0c-c83d-687eeed66317",
        "colab": {
          "base_uri": "https://localhost:8080/"
        }
      },
      "outputs": [
        {
          "output_type": "stream",
          "name": "stdout",
          "text": [
            "*   \u001b[33mcb92608\u001b[m\u001b[33m (\u001b[m\u001b[1;36mHEAD -> \u001b[m\u001b[1;32mmaster\u001b[m\u001b[33m)\u001b[m merged lists hotfix and reversing feature\n",
            "\u001b[31m|\u001b[m\u001b[32m\\\u001b[m  \n",
            "\u001b[31m|\u001b[m * \u001b[33md91a895\u001b[m\u001b[33m (\u001b[m\u001b[1;32mfeature-reverse-string\u001b[m\u001b[33m)\u001b[m added a utility to reverse a string\n",
            "* \u001b[32m|\u001b[m \u001b[33m1c6cbb6\u001b[m\u001b[33m (\u001b[m\u001b[1;32mfix-ensure-lists-do-not-break-capitalize\u001b[m\u001b[33m)\u001b[m ensure lists do not break capitalization utility\n",
            "\u001b[32m|\u001b[m\u001b[32m/\u001b[m  \n",
            "* \u001b[33mc3305cd\u001b[m bugfix: capitalize and upper are different concepts\n",
            "* \u001b[33m61a990e\u001b[m improve utility file docstring\n",
            "* \u001b[33m28f361e\u001b[m Initial commit\n"
          ]
        }
      ],
      "source": [
        "!git log --all --decorate --oneline --graph"
      ]
    },
    {
      "cell_type": "markdown",
      "metadata": {
        "id": "OGCYMxmPJF5N"
      },
      "source": [
        "It's good to be able to diagnose and manage git problems from the command line - at some point, Github or your Git user interface will not provide all the tools you need, and some complex issues can only be solved via CLI. `git log` has a number of options for pretty-printing the commit history."
      ]
    },
    {
      "cell_type": "markdown",
      "metadata": {
        "id": "at7V-suSJF5N"
      },
      "source": [
        "## Magic Files"
      ]
    },
    {
      "cell_type": "markdown",
      "metadata": {
        "id": "oHe4-PDdJF5N"
      },
      "source": [
        "There are a couple of files that live in your gitroot (the top directory in git), and start with `.git`"
      ]
    },
    {
      "cell_type": "markdown",
      "metadata": {
        "id": "JQDxbF9LJF5N"
      },
      "source": [
        "Two are particularly important for new users..."
      ]
    },
    {
      "cell_type": "code",
      "source": [
        "!ls -a"
      ],
      "metadata": {
        "colab": {
          "base_uri": "https://localhost:8080/"
        },
        "id": "Bw4MO7IqQAKo",
        "outputId": "ab88ad87-27cb-4ed4-9444-710a28bf5d9f"
      },
      "execution_count": null,
      "outputs": [
        {
          "output_type": "stream",
          "name": "stdout",
          "text": [
            ".  ..  .config\t.git  sample_data  test\n"
          ]
        }
      ]
    },
    {
      "cell_type": "code",
      "source": [
        "!echo -e \".ipynb_checkpoints\\n/example.py\\n/Introduction to git.ipynb\\n/.gitignore\" > .gitignore\n"
      ],
      "metadata": {
        "id": "tlhU17OwQMeH"
      },
      "execution_count": null,
      "outputs": []
    },
    {
      "cell_type": "code",
      "execution_count": null,
      "metadata": {
        "id": "8dQNG0tQJF5O",
        "outputId": "9946169a-ef64-4658-e9b4-e45ebb970eab",
        "colab": {
          "base_uri": "https://localhost:8080/"
        }
      },
      "outputs": [
        {
          "output_type": "stream",
          "name": "stdout",
          "text": [
            ".ipynb_checkpoints\n",
            "/example.py\n",
            "/Introduction to git.ipynb\n",
            "/.gitignore\n"
          ]
        }
      ],
      "source": [
        "!cat .gitignore"
      ]
    },
    {
      "cell_type": "markdown",
      "metadata": {
        "id": "4TFJXTk2JF5O"
      },
      "source": [
        "This file is checked by git - if a pattern in it matches any given file in the directories below, git ignores it. You can use `*` to identify part of a file, or `/` to state that that filename should only only be ignored if in the root directory of your git."
      ]
    },
    {
      "cell_type": "markdown",
      "metadata": {
        "id": "479SK0xSJF5P"
      },
      "source": [
        "In particular, the final task will highlight that git is not magical - it is a set of files in the `.git` directory. If you copy that directory, you have copied the entire git state - a good way of taking a quick back-up before trying any experiments is to copy your whole git folder, as (if you correctly copy it!) you can then safely delete the original without losing any git information. Lets wipe the git we created..."
      ]
    },
    {
      "cell_type": "code",
      "execution_count": null,
      "metadata": {
        "id": "dT9AEvReJF5P"
      },
      "outputs": [],
      "source": [
        "!rm -rf .git"
      ]
    },
    {
      "cell_type": "markdown",
      "metadata": {
        "id": "n_cPB76ZJF5P"
      },
      "source": [
        "### Exercise: Switching Lines"
      ]
    },
    {
      "cell_type": "markdown",
      "metadata": {
        "id": "1HwsKW_eJF5P"
      },
      "source": [
        "Git graphs can get very complex - this project has largely recreated the Paris Metro in one: https://github.com/vbarbaresi/MetroGit"
      ]
    },
    {
      "cell_type": "markdown",
      "metadata": {
        "id": "NFns55eIJF5V"
      },
      "source": [
        "Ignore any halts (anything that isn't a circle). Hint: you may find it quickest to start from Lanyon Place as your initial commit.\n",
        "\n",
        "Rather than having to create content every time you want to commit, you can use `git commit --allow-empty -m \"Lurgan\"`"
      ]
    },
    {
      "cell_type": "code",
      "execution_count": null,
      "metadata": {
        "id": "hC-qhR2ghV26"
      },
      "outputs": [],
      "source": [
        "!git config --global user.email \"partha.paul@flaxandteal.co.uk\"\n",
        "!git config --global user.name \"Partha Saka Paul\""
      ]
    },
    {
      "cell_type": "code",
      "execution_count": null,
      "metadata": {
        "id": "zEE3zaR1JF5X",
        "colab": {
          "base_uri": "https://localhost:8080/"
        },
        "outputId": "00379cfe-14f9-4751-e564-94cef8dbbbdf"
      },
      "outputs": [
        {
          "output_type": "stream",
          "name": "stdout",
          "text": [
            "\u001b[33mhint: Using 'master' as the name for the initial branch. This default branch name\u001b[m\n",
            "\u001b[33mhint: is subject to change. To configure the initial branch name to use in all\u001b[m\n",
            "\u001b[33mhint: of your new repositories, which will suppress this warning, call:\u001b[m\n",
            "\u001b[33mhint: \u001b[m\n",
            "\u001b[33mhint: \tgit config --global init.defaultBranch <name>\u001b[m\n",
            "\u001b[33mhint: \u001b[m\n",
            "\u001b[33mhint: Names commonly chosen instead of 'master' are 'main', 'trunk' and\u001b[m\n",
            "\u001b[33mhint: 'development'. The just-created branch can be renamed via this command:\u001b[m\n",
            "\u001b[33mhint: \u001b[m\n",
            "\u001b[33mhint: \tgit branch -m <name>\u001b[m\n",
            "Initialized empty Git repository in /content/.git/\n",
            "[master (root-commit) ee946bc] Lanyon Place\n"
          ]
        }
      ],
      "source": [
        "!git init .\n",
        "!git commit --allow-empty -m \"Lanyon Place\""
      ]
    },
    {
      "cell_type": "code",
      "source": [
        "# Initialize a new Git repository\n",
        "!git init NIRailways\n",
        "\n",
        "# Navigate into the repository directory\n",
        "%cd NIRailways\n",
        "\n",
        "# Create an initial commit for Lanyon Place\n",
        "!git commit --allow-empty -m \"Lanyon Place\""
      ],
      "metadata": {
        "colab": {
          "base_uri": "https://localhost:8080/"
        },
        "collapsed": true,
        "id": "DLGq_18MYy0l",
        "outputId": "d98fda09-014e-42a2-e83c-7a9e2de5bf29"
      },
      "execution_count": null,
      "outputs": [
        {
          "output_type": "stream",
          "name": "stdout",
          "text": [
            "\u001b[33mhint: Using 'master' as the name for the initial branch. This default branch name\u001b[m\n",
            "\u001b[33mhint: is subject to change. To configure the initial branch name to use in all\u001b[m\n",
            "\u001b[33mhint: of your new repositories, which will suppress this warning, call:\u001b[m\n",
            "\u001b[33mhint: \u001b[m\n",
            "\u001b[33mhint: \tgit config --global init.defaultBranch <name>\u001b[m\n",
            "\u001b[33mhint: \u001b[m\n",
            "\u001b[33mhint: Names commonly chosen instead of 'master' are 'main', 'trunk' and\u001b[m\n",
            "\u001b[33mhint: 'development'. The just-created branch can be renamed via this command:\u001b[m\n",
            "\u001b[33mhint: \u001b[m\n",
            "\u001b[33mhint: \tgit branch -m <name>\u001b[m\n",
            "Initialized empty Git repository in /content/NIRailways/.git/\n",
            "/content/NIRailways\n",
            "[master (root-commit) de9b1bb] Lanyon Place\n"
          ]
        }
      ]
    },
    {
      "cell_type": "markdown",
      "metadata": {
        "id": "jjtdOxsBJF5U"
      },
      "source": [
        "Can you create the NI Railways map in a git tree?\n",
        "\n",
        "![Translink route map](https://upload.wikimedia.org/wikipedia/commons/e/ea/NI_Railways_Map.svg)\n",
        "\n",
        "<small>[SVG Map of NI Railways](https://commons.wikimedia.org/wiki/File:NI_Railways_Map.svg). [RaviC](https://commons.wikimedia.org/wiki/User:RaviC) CC-BY-SA 4.0</small>"
      ]
    },
    {
      "cell_type": "code",
      "source": [
        "!git status"
      ],
      "metadata": {
        "colab": {
          "base_uri": "https://localhost:8080/"
        },
        "id": "R0rRANKiZsTp",
        "outputId": "8ea896ec-c81d-4459-8b5b-b2a04c712cb2"
      },
      "execution_count": null,
      "outputs": [
        {
          "output_type": "stream",
          "name": "stdout",
          "text": [
            "On branch master\n",
            "nothing to commit, working tree clean\n"
          ]
        }
      ]
    },
    {
      "cell_type": "code",
      "source": [
        "# Create and switch to branches for each line\n",
        "!git checkout -b Bangor\n",
        "!git commit --allow-empty -m \"Lanyon Place\"\n",
        "\n",
        "!git checkout master\n",
        "!git checkout -b Larne_Harbour\n",
        "!git commit --allow-empty -m \"Lanyon Place\"\n",
        "\n",
        "!git checkout master\n",
        "!git checkout -b Newry\n",
        "!git commit --allow-empty -m \"Lanyon Place\""
      ],
      "metadata": {
        "colab": {
          "base_uri": "https://localhost:8080/"
        },
        "id": "NRjerTc7crQa",
        "outputId": "cc3a124b-7a7d-4c68-d25c-3e35d824c005"
      },
      "execution_count": null,
      "outputs": [
        {
          "output_type": "stream",
          "name": "stdout",
          "text": [
            "Switched to a new branch 'Bangor'\n",
            "[Bangor 76aaadc] Lanyon Place\n",
            "Switched to branch 'master'\n",
            "Switched to a new branch 'Larne_Harbour'\n",
            "[Larne_Harbour 76aaadc] Lanyon Place\n",
            "Switched to branch 'master'\n",
            "Switched to a new branch 'Newry'\n",
            "[Newry 76aaadc] Lanyon Place\n"
          ]
        }
      ]
    },
    {
      "cell_type": "code",
      "source": [
        "!git checkout Bangor\n",
        "!git commit --allow-empty -m \"Helen's Bay\"\n",
        "!git commit --allow-empty -m \"Carnalea\"\n",
        "!git commit --allow-empty -m \"Bangor West\"\n",
        "\n",
        "!git checkout master"
      ],
      "metadata": {
        "colab": {
          "base_uri": "https://localhost:8080/"
        },
        "id": "I53QljVhdk4b",
        "outputId": "5a2b9b84-8299-4134-d989-8bf276e620ce"
      },
      "execution_count": null,
      "outputs": [
        {
          "output_type": "stream",
          "name": "stdout",
          "text": [
            "Switched to branch 'Bangor'\n",
            "[Bangor ea15d52] Helen's Bay\n",
            "[Bangor c85ce81] Carnalea\n",
            "[Bangor 18ff6d0] Bangor West\n",
            "Switched to branch 'master'\n"
          ]
        }
      ]
    },
    {
      "cell_type": "code",
      "source": [
        "!git checkout Larne_Harbour\n",
        "!git commit --allow-empty -m \"Whiteabbey\"\n",
        "!git commit --allow-empty -m \"Jordanstown\"\n",
        "!git commit --allow-empty -m \"Greenisland\"\n",
        "\n",
        "!git checkout master"
      ],
      "metadata": {
        "colab": {
          "base_uri": "https://localhost:8080/"
        },
        "id": "EmVRPHbud1Q2",
        "outputId": "712d484c-cbfd-4a2c-aac6-862fd4c7de07"
      },
      "execution_count": null,
      "outputs": [
        {
          "output_type": "stream",
          "name": "stdout",
          "text": [
            "Switched to branch 'Larne_Harbour'\n",
            "[Larne_Harbour 8c41286] Whiteabbey\n",
            "[Larne_Harbour df62129] Jordanstown\n",
            "[Larne_Harbour 12c88b2] Greenisland\n",
            "Switched to branch 'master'\n"
          ]
        }
      ]
    },
    {
      "cell_type": "code",
      "source": [
        "!git checkout master\n",
        "\n",
        "!git branch -D Newry"
      ],
      "metadata": {
        "colab": {
          "base_uri": "https://localhost:8080/"
        },
        "id": "__50lG7HnXxQ",
        "outputId": "a98ac390-33a4-43e6-b17f-74dc73e42b2e"
      },
      "execution_count": null,
      "outputs": [
        {
          "output_type": "stream",
          "name": "stdout",
          "text": [
            "Already on 'master'\n",
            "Deleted branch Newry (was 405f279).\n"
          ]
        }
      ]
    },
    {
      "cell_type": "code",
      "source": [
        "!git checkout Portadown\n",
        "!git commit --allow-empty -m \"Great Victoria St.\"\n",
        "!git commit --allow-empty -m \"Lisburn\"\n",
        "\n",
        "!git checkout master"
      ],
      "metadata": {
        "colab": {
          "base_uri": "https://localhost:8080/"
        },
        "id": "ABUeduKtd5KV",
        "outputId": "e699c45a-0a25-4704-f7af-43514c131942"
      },
      "execution_count": null,
      "outputs": [
        {
          "output_type": "stream",
          "name": "stdout",
          "text": [
            "Switched to branch 'Newry'\n",
            "[Newry e0afa4c] Lisburn\n",
            "[Newry 405f279] Portadown\n",
            "Switched to branch 'master'\n"
          ]
        }
      ]
    },
    {
      "cell_type": "code",
      "source": [
        "# Create a new branch from Portadown to Newry\n",
        "!git checkout -b Portadown_to_Newry\n",
        "\n",
        "# Add stations from Portadown to Newry\n",
        "!git commit --allow-empty -m \"Poyntzpass\"\n",
        "!git commit --allow-empty -m \"Newry\"\n"
      ],
      "metadata": {
        "id": "Fv1qGOglmwN5"
      },
      "execution_count": null,
      "outputs": []
    },
    {
      "cell_type": "code",
      "source": [
        "%%javascript\n",
        "getGitGraph(element, function (gitgraph) {\n",
        "    console.log(gitgraph);\n",
        "    var master = gitgraph.branch(\"master\");\n",
        "    master.commit(\"Lanyon Place\");\n",
        "\n",
        "    var bangor = master.branch(\"Bangor\");\n",
        "    bangor.commit(\"Helen's Bay\");\n",
        "    bangor.commit(\"Carnalea\");\n",
        "    bangor.commit(\"Bangor West\");\n",
        "\n",
        "    var larne = master.branch(\"Larne_Harbour\");\n",
        "    larne.commit(\"Whiteabbey\");\n",
        "    larne.commit(\"Jordanstown\");\n",
        "    larne.commit(\"Greenisland\");\n",
        "\n",
        "    var portadown = master.branch(\"\");\n",
        "    portadown.commit(\"Lisburn\");\n",
        "    portadown.commit(\"Portadown\");\n",
        "});\n"
      ],
      "metadata": {
        "colab": {
          "base_uri": "https://localhost:8080/",
          "height": 17
        },
        "id": "hGjajoTEfxAc",
        "outputId": "95854eba-e69c-4763-ab02-19a2aa31b445"
      },
      "execution_count": null,
      "outputs": [
        {
          "output_type": "display_data",
          "data": {
            "text/plain": [
              "<IPython.core.display.Javascript object>"
            ],
            "application/javascript": [
              "getGitGraph(element, function (gitgraph) {\n",
              "    console.log(gitgraph);\n",
              "    var master = gitgraph.branch(\"master\");\n",
              "    master.commit(\"Lanyon Place\");\n",
              "\n",
              "    var bangor = master.branch(\"Bangor\");\n",
              "    bangor.commit(\"Helen's Bay\");\n",
              "    bangor.commit(\"Carnalea\");\n",
              "    bangor.commit(\"Bangor West\");\n",
              "\n",
              "    var larne = master.branch(\"Larne_Harbour\");\n",
              "    larne.commit(\"Whiteabbey\");\n",
              "    larne.commit(\"Jordanstown\");\n",
              "    larne.commit(\"Greenisland\");\n",
              "\n",
              "    var portadown = master.branch(\"\");\n",
              "    portadown.commit(\"Lisburn\");\n",
              "    portadown.commit(\"Portadown\");\n",
              "});\n"
            ]
          },
          "metadata": {}
        }
      ]
    },
    {
      "cell_type": "code",
      "execution_count": null,
      "metadata": {
        "outputId": "a363e236-0262-4ddf-de8e-110f9c1b96b8",
        "colab": {
          "base_uri": "https://localhost:8080/"
        },
        "id": "RbKv11B7gi1D"
      },
      "outputs": [
        {
          "output_type": "stream",
          "name": "stdout",
          "text": [
            "* \u001b[33m405f279\u001b[m\u001b[33m (\u001b[m\u001b[1;32mNewry\u001b[m\u001b[33m)\u001b[m Portadown\n",
            "* \u001b[33me0afa4c\u001b[m Lisburn\n",
            "\u001b[31m|\u001b[m * \u001b[33m12c88b2\u001b[m\u001b[33m (\u001b[m\u001b[1;32mLarne_Harbour\u001b[m\u001b[33m)\u001b[m Greenisland\n",
            "\u001b[31m|\u001b[m * \u001b[33mdf62129\u001b[m Jordanstown\n",
            "\u001b[31m|\u001b[m * \u001b[33m8c41286\u001b[m Whiteabbey\n",
            "\u001b[31m|\u001b[m\u001b[31m/\u001b[m  \n",
            "\u001b[31m|\u001b[m * \u001b[33m18ff6d0\u001b[m\u001b[33m (\u001b[m\u001b[1;32mBangor\u001b[m\u001b[33m)\u001b[m Bangor West\n",
            "\u001b[31m|\u001b[m * \u001b[33mc85ce81\u001b[m Carnalea\n",
            "\u001b[31m|\u001b[m * \u001b[33mea15d52\u001b[m Helen's Bay\n",
            "\u001b[31m|\u001b[m\u001b[31m/\u001b[m  \n",
            "* \u001b[33m76aaadc\u001b[m Lanyon Place\n",
            "* \u001b[33mde9b1bb\u001b[m\u001b[33m (\u001b[m\u001b[1;36mHEAD -> \u001b[m\u001b[1;32mmaster\u001b[m\u001b[33m)\u001b[m Lanyon Place\n"
          ]
        }
      ],
      "source": [
        "!git log --all --decorate --oneline --graph"
      ]
    },
    {
      "cell_type": "code",
      "source": [
        "!git status"
      ],
      "metadata": {
        "colab": {
          "base_uri": "https://localhost:8080/"
        },
        "id": "QDnwhw8Xgigr",
        "outputId": "ee56d0d3-ec13-4b91-bf2c-1cc00bf9c619"
      },
      "execution_count": null,
      "outputs": [
        {
          "output_type": "stream",
          "name": "stdout",
          "text": [
            "On branch master\n",
            "nothing to commit, working tree clean\n"
          ]
        }
      ]
    }
  ],
  "metadata": {
    "kernelspec": {
      "display_name": "Python 3",
      "language": "python",
      "name": "python3"
    },
    "language_info": {
      "codemirror_mode": {
        "name": "ipython",
        "version": 3
      },
      "file_extension": ".py",
      "mimetype": "text/x-python",
      "name": "python",
      "nbconvert_exporter": "python",
      "pygments_lexer": "ipython3",
      "version": "3.7.3"
    },
    "colab": {
      "provenance": []
    }
  },
  "nbformat": 4,
  "nbformat_minor": 0
}