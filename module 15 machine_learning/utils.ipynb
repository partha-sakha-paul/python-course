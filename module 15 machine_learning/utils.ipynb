{
  "nbformat": 4,
  "nbformat_minor": 0,
  "metadata": {
    "colab": {
      "provenance": []
    },
    "kernelspec": {
      "name": "python3",
      "display_name": "Python 3"
    },
    "language_info": {
      "name": "python"
    }
  },
  "cells": [
    {
      "cell_type": "code",
      "execution_count": null,
      "metadata": {
        "id": "6magcx9tLZbC"
      },
      "outputs": [],
      "source": [
        "# geopandas: A library that extends pandas to allow spatial operations on geometric types.\n",
        "# folium: A library for creating interactive maps.\n",
        "# Point: A geometric object from the shapely library that represents a point in space (latitude and longitude).\n",
        "import geopandas\n",
        "import folium\n",
        "from shapely.geometry import Point\n",
        "\n",
        "def to_geo_dataframe(df):\n",
        "    \"\"\"Turn a carpark DataFrame into a GeoDataFrame.\"\"\"\n",
        "    # For a row with LONGITUDE = -5.890236 and LATITUDE = 54.596667,\n",
        "    # creates Point(-5.890236, 54.596667).\n",
        "    geometry = [Point(row['LONGITUDE'], row['LATITUDE']) for index, row in df.iterrows()]\n",
        "    # gdf: A GeoDataFrame is created from the original DataFrame df,\n",
        "    # with an additional geometry column containing the Point objects.\n",
        "    gdf = geopandas.GeoDataFrame(df, geometry=geometry)\n",
        "    gdf.crs = {'init': 'epsg:4326'}\n",
        "\n",
        "    return gdf\n",
        "\n",
        "\n",
        "def plot_gdf(filename, gdf):\n",
        "    \"\"\"Save an interactive map plot.\"\"\"\n",
        "    # map: A Folium map object centered at latitude 54.6 and\n",
        "    # longitude -5.90, with a starting zoom level of 10.\n",
        "    map = folium.Map(\n",
        "        location=[54.6, -5.90],\n",
        "        zoom_start=10\n",
        "    )\n",
        "    # Adding GeoDataFrame to Map\n",
        "    # carparks: A Folium GeoJson object created from the GeoDataFrame gdf.\n",
        "    carparks = folium.features.GeoJson(gdf)\n",
        "    # map.add_children(carparks): Adds the GeoJson object to the map,\n",
        "    # so the car parks will be displayed as points on the map.\n",
        "    map.add_children(carparks)\n",
        "    map.save(filename)"
      ]
    },
    {
      "cell_type": "code",
      "source": [],
      "metadata": {
        "id": "YQYQoi8dNCyf"
      },
      "execution_count": null,
      "outputs": []
    }
  ]
}