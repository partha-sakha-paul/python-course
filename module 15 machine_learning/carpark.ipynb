{
  "nbformat": 4,
  "nbformat_minor": 0,
  "metadata": {
    "colab": {
      "provenance": []
    },
    "kernelspec": {
      "name": "python3",
      "display_name": "Python 3"
    },
    "language_info": {
      "name": "python"
    }
  },
  "cells": [
    {
      "cell_type": "code",
      "execution_count": null,
      "metadata": {
        "colab": {
          "base_uri": "https://localhost:8080/"
        },
        "id": "EHZ1zAf3MBLH",
        "outputId": "7e9c6614-fcc1-4dc0-d713-41bb68a72ced"
      },
      "outputs": [
        {
          "output_type": "stream",
          "name": "stdout",
          "text": [
            "Little Victoria Street Car Park  is  0.0 percent further than the closest\n",
            "Hope Street North Car Park  is  0.7249818690664878 percent further than the closest\n",
            "Bankmore Street Car Park  is  11.254672797977605 percent further than the closest\n",
            "Charlotte Street Car Park  is  28.92573554717646 percent further than the closest\n"
          ]
        },
        {
          "output_type": "stream",
          "name": "stderr",
          "text": [
            "/usr/local/lib/python3.10/dist-packages/pyproj/crs/crs.py:141: FutureWarning: '+init=<authority>:<code>' syntax is deprecated. '<authority>:<code>' is the preferred initialization method. When making the change, be mindful of axis order changes: https://pyproj4.github.io/pyproj/stable/gotchas.html#axis-order-changes-in-proj-6\n",
            "  in_crs_string = _prepare_from_proj_string(in_crs_string)\n",
            "/content/utils.py:24: FutureWarning: Method `add_children` is deprecated. Please use `add_child` instead.\n",
            "  map.add_children(carparks)\n"
          ]
        }
      ],
      "source": [
        "#!/usr/bin/env python3\n",
        "# -*- coding: utf-8 -*-\n",
        "\"\"\"\n",
        "Find the closest carparks to the Computer Science building\n",
        "\n",
        "@author: Phil Weir <phil.weir@flaxandteal.co.uk>\n",
        "@license: MIT\n",
        "\"\"\"\n",
        "\n",
        "import pandas\n",
        "from sklearn.neighbors import NearestNeighbors\n",
        "import utils\n",
        "\n",
        "def closest_carpark(gdf, target):\n",
        "    X = []\n",
        "    def extract_points(row):\n",
        "        X.append([row.geometry.y, row.geometry.x])\n",
        "\n",
        "    gdf.apply(extract_points, axis=1)\n",
        "    nbrs = NearestNeighbors(n_neighbors=4).fit(X)\n",
        "\n",
        "    Y = [target]\n",
        "    # This maps multiple targets at once efficiently, but we just need one\n",
        "    distances_per_Y_row, row_numbers_per_Y_row = nbrs.kneighbors(Y)\n",
        "    # print(distances_per_Y_row)   # [[0.01170093 0.01178576 0.01301783 0.01508551]]\n",
        "    # print(row_numbers_per_Y_row)   # [[15 12  1  2]]\n",
        "    distances = distances_per_Y_row[0]\n",
        "    row_numbers = row_numbers_per_Y_row[0]\n",
        "\n",
        "    # Report distance as a comparison\n",
        "    reference_distance = distances[0]   # the distance of the closest car park\n",
        "    # Why are there two zeroes below? What happens if Y has multiple entries?\n",
        "    for distance, row_i in zip(distances, row_numbers):\n",
        "        relative_distance = 100 * (distance / reference_distance - 1)\n",
        "        row = gdf.iloc[row_i]   # retrieves the row from gdf at the index row_i.\n",
        "        print(row['NAME'], \" is \", relative_distance, \"percent further than the closest\")\n",
        "\n",
        "# Relative Distance: The percentage difference in distance of each car park\n",
        "# compared to the closest car park.\n",
        "\n",
        "def run():\n",
        "    # Load data into variable called \"df\"\n",
        "    df = pandas.read_csv('car-park-locations-data.csv', encoding='latin1')\n",
        "\n",
        "    # Because why not?\n",
        "    # print(df.describe())\n",
        "\n",
        "    # Get a geopandas dataframe, from a normal pandas one\n",
        "    gdf = utils.to_geo_dataframe(df)\n",
        "    # print(gdf)\n",
        "\n",
        "    # Create a plot\n",
        "    utils.plot_gdf(\"output.html\", gdf)\n",
        "\n",
        "    # CompSci Building 54.5817428 -5.9374874\n",
        "    closest_carpark(gdf, [54.5817428, -5.9374874])\n",
        "\n",
        "if __name__ == \"__main__\":\n",
        "    run()"
      ]
    },
    {
      "cell_type": "code",
      "source": [],
      "metadata": {
        "id": "byxRv32lQH15"
      },
      "execution_count": null,
      "outputs": []
    }
  ]
}