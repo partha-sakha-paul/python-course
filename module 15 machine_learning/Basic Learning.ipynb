{
 "cells": [
  {
   "cell_type": "markdown",
   "metadata": {
    "slideshow": {
     "slide_type": "slide"
    }
   },
   "source": [
    "# Basic Learning\n",
    "## scikit-learn"
   ]
  },
  {
   "cell_type": "markdown",
   "metadata": {
    "slideshow": {
     "slide_type": "slide"
    }
   },
   "source": [
    "In terminal run:\n",
    "```\n",
    "cd ~/python-course-learn\n",
    "git pull\n",
    "```"
   ]
  },
  {
   "cell_type": "markdown",
   "metadata": {
    "slideshow": {
     "slide_type": "fragment"
    }
   },
   "source": [
    "Click activities and type Spyder - select the web/snake icon"
   ]
  },
  {
   "cell_type": "markdown",
   "metadata": {
    "slideshow": {
     "slide_type": "slide"
    }
   },
   "source": [
    "## Unsupervised Nearest Neighbours\n",
    "### Not just the pub downstairs"
   ]
  },
  {
   "cell_type": "markdown",
   "metadata": {
    "slideshow": {
     "slide_type": "notes"
    }
   },
   "source": [
    "I'm not going to get into the detail of various learning algorithms, but to give a brief motivating summary - we're going to look at an algorithm that extracts neighbours fast. Our application is geography, literally finding a nearest point from a set, so will use some of what we have done and some new material. This is intended to help you get a feel for what some of the algorithms do in scikit-learn, the standard, accessible Python machine learning model, before using them."
   ]
  },
  {
   "cell_type": "markdown",
   "metadata": {
    "slideshow": {
     "slide_type": "notes"
    }
   },
   "source": [
    "In particular, nearest neighbour algorithms in scikit-learn can be used for clustering, where you have no error function to measure against, you are trying to identify general groupings of datapoints rather than, say, predict a column from values in the others."
   ]
  },
  {
   "cell_type": "markdown",
   "metadata": {
    "slideshow": {
     "slide_type": "slide"
    }
   },
   "source": [
    "![OpenDataNI Screenshot](images/odni.png)"
   ]
  },
  {
   "cell_type": "markdown",
   "metadata": {
    "slideshow": {
     "slide_type": "notes"
    }
   },
   "source": [
    "If you want to check out the CSV we will use, you can find a cabinet-shaped icon in the Activities menu - go to Home and open the `python-course-learn` folder. It is `car-park-locations-data.csv`.\n",
    "\n",
    "You should see it is a CSV like many others, with some subjectively interesting data about local carparks - the only unusual thing here is that we have map coordinates.\n",
    "\n",
    "A little aside for those dealing with map-based data - the latitude and longitude should look familiar, but the X-Coordinate and Y-Coordinate columns may not. These are Irish Grid Reference coordinates, which can be converted to latitude and longitude, and are the standard public sector format for pinpointing locations on both sides of the border."
   ]
  },
  {
   "cell_type": "markdown",
   "metadata": {
    "slideshow": {
     "slide_type": "slide"
    }
   },
   "source": [
    "Next open `carpark.py` in Spyder.\n",
    "\n",
    "From Spyder's _File &rarr; Open_ dialog, choose the `carpark.py` file."
   ]
  },
  {
   "cell_type": "markdown",
   "metadata": {
    "slideshow": {
     "slide_type": "slide"
    }
   },
   "source": [
    "![Key Spyder features](images/spyder-diagram.png)"
   ]
  },
  {
   "cell_type": "markdown",
   "metadata": {
    "slideshow": {
     "slide_type": "notes"
    }
   },
   "source": [
    "This diagram highlights a few key features for first-time users in Spyder. If this isn't the editor for you, also check out Visual Studio Code, Atom, PyCharm, NinjaIDE (or many others!)"
   ]
  },
  {
   "cell_type": "markdown",
   "metadata": {},
   "source": [
    "Try running the script - go to the `carparks.py` file and press the _green_ play button, or press F5."
   ]
  },
  {
   "cell_type": "markdown",
   "metadata": {},
   "source": [
    "You should see output in the bottom right corner, listing distances to the closest 4 carparks to this building."
   ]
  },
  {
   "cell_type": "markdown",
   "metadata": {
    "slideshow": {
     "slide_type": "notes"
    }
   },
   "source": [
    "We do this using scikit-learn's nearest neighbour module. The algorithm is essentially:"
   ]
  },
  {
   "cell_type": "markdown",
   "metadata": {
    "slideshow": {
     "slide_type": "slide"
    }
   },
   "source": [
    "* Extract points as a simple list\n",
    "* Fit a NearestNeighbors model to the data\n",
    "* Ask it to give a set of neighbours for our target\n",
    "* Print the relative distances to each of those four neighbours"
   ]
  },
  {
   "cell_type": "markdown",
   "metadata": {
    "slideshow": {
     "slide_type": "slide"
    }
   },
   "source": [
    "# New Features\n",
    "\n",
    "# import utils\n",
    "\n",
    "`utils.py` is a file in the same directory, open it!"
   ]
  },
  {
   "cell_type": "markdown",
   "metadata": {
    "slideshow": {
     "slide_type": "notes"
    }
   },
   "source": [
    "Importing gives us a neat way of splitting up our code. In this case, we just use a Python file in the same directory - that means we can import it by using its name (without \".py\"). In a minute, we will use some of these functions from the first file, just like any other module.\n",
    "\n",
    "In this case, we have used it to separate out some geography related functions that use different libraries to the rest of our code - this separation makes both files neater, and easier to find the function you want as your script gets bigger.\n",
    "\n",
    "There are neater and nicer ways to do importing of your own Python files, but for the moment, this gets us started!"
   ]
  },
  {
   "cell_type": "markdown",
   "metadata": {
    "slideshow": {
     "slide_type": "fragment"
    }
   },
   "source": [
    "Notice the triple-quotes..."
   ]
  },
  {
   "cell_type": "markdown",
   "metadata": {
    "slideshow": {
     "slide_type": "notes"
    }
   },
   "source": [
    "Triple-quotes are a way of showing \"docstrings\" - bits of comment text that follows a standard pattern so that readers (humans or computers) can quickly see what does what. This is closely tied to code style, and is often a requirement specified across a project. For example, directly after the function name, a docstring indicates what the function does. At the top of the file, it gives information about the whole module."
   ]
  },
  {
   "cell_type": "markdown",
   "metadata": {
    "slideshow": {
     "slide_type": "slide"
    }
   },
   "source": [
    "# Back in carpark.py\n",
    "\n",
    "## #!/usr/bin/env python3"
   ]
  },
  {
   "cell_type": "markdown",
   "metadata": {
    "slideshow": {
     "slide_type": "notes"
    }
   },
   "source": [
    "This indicates to the computer what program should run this file. Actually, on Mac or Linux, you can execute Python (without even a .py extension) from the command line and it will recognise \"#!\", then use Python 3 to run the rest of the script. In our case, Spyder knows anyway, but it's good practice to make sure this line appears in the main script file you intend to run."
   ]
  },
  {
   "cell_type": "markdown",
   "metadata": {
    "slideshow": {
     "slide_type": "slide"
    }
   },
   "source": [
    "# `__name __`"
   ]
  },
  {
   "cell_type": "markdown",
   "metadata": {
    "slideshow": {
     "slide_type": "notes"
    }
   },
   "source": [
    "Down near the bottom, you find the only instructions that are not either in functions or imports. This is a single `if` statement guarding a call to `run()`. If you follow the flow, you will see `run` runs all of the rest of the program. So why is nothing executed if this `if` statement is false, and why is it there?"
   ]
  },
  {
   "cell_type": "markdown",
   "metadata": {
    "slideshow": {
     "slide_type": "fragment"
    }
   },
   "source": [
    "It stops the code being run if this file is imported into another."
   ]
  },
  {
   "cell_type": "markdown",
   "metadata": {
    "slideshow": {
     "slide_type": "skip"
    }
   },
   "source": [
    "# Encodings\n",
    "\n",
    "Some CSV files may not load as expected:\n",
    "\n",
    "Hint: special symbols (some dashes, minuses, quotes) are \"encoded\" in different ways - you need \"latin1\" encoding here! Start by looking at optional arguments for `pandas.read_csv` and find that line in the `carpark.py` file..."
   ]
  },
  {
   "cell_type": "markdown",
   "metadata": {
    "slideshow": {
     "slide_type": "notes"
    }
   },
   "source": [
    "One of the true \"magic\" bits of Python - the `__name__` variable is always `__main__` if you are running a file as a script, and not if you are importing it. Remember, importing is like an include in other languages: whatever is in the module gets run. If you're not sure, try putting a print statement (outside the functions) in your `utils.py` - it will get run when `carpark.py` is."
   ]
  },
  {
   "cell_type": "markdown",
   "metadata": {
    "slideshow": {
     "slide_type": "slide"
    }
   },
   "source": [
    "# Making maps\n",
    "\n",
    "Uncomment the lines `gdf = utils.to_geo_dataframe(df)` and `utils.plot_gdf(\"output.html\", gdf)`\n",
    "\n",
    "Now run the script again."
   ]
  },
  {
   "cell_type": "markdown",
   "metadata": {
    "slideshow": {
     "slide_type": "notes"
    }
   },
   "source": [
    "If you go back to the file manager, you should be able to find a new file in that directory called `output.html` - open it.\n",
    "\n",
    "You should find a very minimal Google-maps style interface with Belfast's carparks as pins. This uses a much more powerful library than this map's simplicity suggests - `folium` is a Python package that creates [Leaflet.js](http://leafletjs.com/) maps. If you are displaying any interactive map data, definitely check it out."
   ]
  },
  {
   "cell_type": "markdown",
   "metadata": {
    "slideshow": {
     "slide_type": "slide"
    }
   },
   "source": [
    "# GeoPandas\n",
    "\n",
    "## How does to_geo_dataframe work?"
   ]
  },
  {
   "cell_type": "markdown",
   "metadata": {
    "slideshow": {
     "slide_type": "notes"
    }
   },
   "source": [
    "GeoPandas extends the functionality of Pandas to give a lot of powerful GIS tools - for example, joining or pivoting dataframes based on, for example, whether rows of one (e.g. cities) are locations inside another (e.g. countries). We don't stretch its ability here, but will give you a brief introduction.\n",
    "\n",
    "Look at each line in the first function of `utils.py`. The first instruction contains a `generator` - like simpler ones we have seen, it can be thought of as a very tidy for loop. The next line creates a GeoPandas GeoDataFrame - this is like a normal DataFrame (in fact, it wraps the one we pass to it), but it understands that we have GIS objects in there, as well as floats, ints, strings, etc.\n",
    "\n",
    "The third instruction sets the \"coordinate reference system\" - don't worry too much about this, unless you have GIS applications for your work."
   ]
  },
  {
   "cell_type": "markdown",
   "metadata": {
    "slideshow": {
     "slide_type": "slide"
    }
   },
   "source": [
    "# Challenge\n",
    "\n",
    "* Print out `gdf` inside `to_geo_dataframe`\n",
    "* Swap the generator for _either_ a for-loop _or_ `df.apply` with a new function\n",
    "* Stretch goal: use Spyder's Breakpoints, Debugger and Variable Explorer to pause and explore the `gdf` dataframe while running\n",
    "\n",
    "(hint: click beside a line to add a red-dot break-point in `utils.py`, and then, in `carpark.py`, use the blue play-pause button, then fast-forward button, to get to it)"
   ]
  },
  {
   "cell_type": "markdown",
   "metadata": {
    "slideshow": {
     "slide_type": "slide"
    }
   },
   "source": [
    "![Spyder debugging features](images/spyder-debugger.png)"
   ]
  },
  {
   "cell_type": "markdown",
   "metadata": {
    "slideshow": {
     "slide_type": "notes"
    }
   },
   "source": [
    "If you are still in the debugger, press the blue stop button to get back to normal.\n",
    "\n",
    "Tip: if you run a script (`carpark.py`) with F5, then using F6 keeps running the same script, even when you change to `utils.py`\n",
    "\n",
    "Notice that we are using two values instead of one as a loop variable. This is a Python shorthand for when you loop over a list of 2-item tuples (or 2-item lists) - it will split each tuple or list into those variables. This is useful for, say, looping over coordinates: `for x, y in coords`\n",
    "\n",
    "It also works with 3 or more items. Note that you'll get an error if any of the tuples/lists in the list that you are looping do not have the matching number of items."
   ]
  },
  {
   "cell_type": "markdown",
   "metadata": {
    "slideshow": {
     "slide_type": "slide"
    }
   },
   "source": [
    "# Challenge\n",
    "## Comment each line in closest_carpark\n",
    "\n",
    "Talk to each other, Google and me!"
   ]
  },
  {
   "cell_type": "markdown",
   "metadata": {
    "slideshow": {
     "slide_type": "slide"
    }
   },
   "source": [
    "# Irises\n",
    "## Flowers, not eyes"
   ]
  },
  {
   "cell_type": "markdown",
   "metadata": {
    "slideshow": {
     "slide_type": "slide"
    }
   },
   "source": [
    "![Iris sepal and petal](images/iris.png)"
   ]
  },
  {
   "cell_type": "markdown",
   "metadata": {
    "slideshow": {
     "slide_type": "notes"
    }
   },
   "source": [
    "(With thanks to Andreas Mueller for the CC-0 annotation)"
   ]
  },
  {
   "cell_type": "markdown",
   "metadata": {
    "slideshow": {
     "slide_type": "notes"
    }
   },
   "source": [
    "So, the short version of this story is that Ronald Fisher, an English statistician in the 1930s, collected a lot of irises one day on a pensinula in Quebec. This turned out to be a great dataset for testing machine learning algorithms, as he collected three different varietes of iris, all very similar looking, and they can be fairly well statistically distinguished using four measurements: the sepal width, sepal length, petal width and petal length.\n",
    "\n",
    "This is one of a number of standard datasets. scikit-learn actually includes it, but for real-world relevance, the script downloads it from UCI's standard problem repository and reads it into Python using pandas, much like any other data. Other examples you may be interested in are recognising digits from low-resolution images or house prices in areas of Boston. You may also be interested in Kaggle who run competitions around data mining and have links to a lot of useful academic datasets."
   ]
  },
  {
   "cell_type": "markdown",
   "metadata": {
    "slideshow": {
     "slide_type": "slide"
    }
   },
   "source": [
    "Open `iris.py`"
   ]
  },
  {
   "cell_type": "markdown",
   "metadata": {
    "slideshow": {
     "slide_type": "notes"
    }
   },
   "source": [
    "This is an example of a supervised machine learning algorithm - in contrast to clustering (although we didn't look at clustering itself, just a neighbour algorithm that can be used), here we have a classifier. This means that every iris, and so set of four measurements, has a definitive known variety. scikit-learn lets us build up a statistical model, in fairly few lines of code, that we can test and use for predictions.\n",
    "\n",
    "More mathematically, it means that we map sets of four observations to one of three types - a discrete set. If we had a function that mapped to a continuous set, for instance, house prices, that we wanted to predict, this would be a regression, rather than classifier, problem."
   ]
  },
  {
   "cell_type": "markdown",
   "metadata": {
    "slideshow": {
     "slide_type": "slide"
    }
   },
   "source": [
    "* First we read in the data\n",
    "* We then shuffle the rows\n",
    "* We split them into four datasets\n",
    "* The first two we use to train a model\n",
    "* The second two we use to test the model\n",
    "* This gives a score of how accurate the model is\n",
    "* We classify a new, imaginary iris (prediction)"
   ]
  },
  {
   "cell_type": "markdown",
   "metadata": {
    "slideshow": {
     "slide_type": "notes"
    }
   },
   "source": [
    "Work through each of those steps and make sure you understand how they map to the code. This isn't a machine learning tutorial, but a Python tutorial, so don't worry as much about the why. If you do want to think about the answer to \"Why is permuting important\", then make sure you understand the rest first - that's a statistical question not a code one!"
   ]
  },
  {
   "cell_type": "markdown",
   "metadata": {
    "slideshow": {
     "slide_type": "slide"
    }
   },
   "source": [
    "# Challenges\n",
    "\n",
    "## Now work through the Tasks in the code!\n",
    "\n",
    "Pick the ones that are most relevant to you - plotting, machine learning, model comparison. Ask each other, me and Google!"
   ]
  },
  {
   "cell_type": "markdown",
   "metadata": {},
   "source": [
    "# Pair Challenge\n",
    "\n",
    "Find a partner, ideally with similar interests. Between you write three scripts to test ideas in your field:\n",
    "\n",
    "1. Create some fake sample data with Python and save it (e.g. as CSV)\n",
    "2. Use a new package, relevant to your field, "
   ]
  }
 ],
 "metadata": {
  "celltoolbar": "Slideshow",
  "kernelspec": {
   "display_name": "Python 3",
   "language": "python",
   "name": "python3"
  },
  "language_info": {
   "codemirror_mode": {
    "name": "ipython",
    "version": 3
   },
   "file_extension": ".py",
   "mimetype": "text/x-python",
   "name": "python",
   "nbconvert_exporter": "python",
   "pygments_lexer": "ipython3",
   "version": "3.7.3"
  },
  "livereveal": {
   "theme": "beige",
   "transition": "cascade"
  }
 },
 "nbformat": 4,
 "nbformat_minor": 2
}
